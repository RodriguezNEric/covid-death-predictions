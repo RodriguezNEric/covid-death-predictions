{
 "cells": [
  {
   "cell_type": "markdown",
   "id": "50734ecc-26ad-41cf-b430-7938662a16fa",
   "metadata": {},
   "source": [
    "# Project 5: Machine Learning Modelling to Predict Deaths Associated with COVID-19"
   ]
  },
  {
   "cell_type": "markdown",
   "id": "86cd6f3e-0085-4664-8ebd-ea2352d5d2ba",
   "metadata": {},
   "source": [
    "### Part 3: Model Testing"
   ]
  },
  {
   "cell_type": "code",
   "execution_count": 2,
   "id": "c8583448-ac5b-4de3-bad0-d14fec5deb9b",
   "metadata": {},
   "outputs": [],
   "source": [
    "import pandas as pd\n",
    "import numpy as np\n",
    "import seaborn as sns\n",
    "import missingno as msno\n",
    "import matplotlib.pyplot as plt\n",
    "\n",
    "import os\n",
    "import glob\n",
    "\n",
    "from sklearn.linear_model import LinearRegression, Ridge, Lasso\n",
    "from sklearn.model_selection import train_test_split, cross_val_score, GridSearchCV\n",
    "from sklearn.preprocessing import StandardScaler\n",
    "from sklearn.decomposition import PCA\n",
    "from sklearn import metrics\n",
    "\n",
    "%matplotlib inline"
   ]
  },
  {
   "cell_type": "markdown",
   "id": "6138b07f-8b75-426d-a744-c0c2d0a01bca",
   "metadata": {},
   "source": [
    "#### Preprocessing"
   ]
  },
  {
   "cell_type": "code",
   "execution_count": 3,
   "id": "9560d5fe-3fc4-42ea-a49f-0a71499deac0",
   "metadata": {},
   "outputs": [],
   "source": [
    "# importing cleaned texas covid-19 data into a dataframe\n",
    "df_texas = pd.read_csv('../data/texas_clean_csv.csv',\n",
    "                 na_values=[''], keep_default_na=False)"
   ]
  },
  {
   "cell_type": "code",
   "execution_count": 4,
   "id": "7d8cf13d-05b8-4552-b16f-432359c26f99",
   "metadata": {},
   "outputs": [
    {
     "data": {
      "text/plain": [
       "province_state           0\n",
       "confirmed                0\n",
       "deaths                   0\n",
       "recovered                0\n",
       "active                   0\n",
       "fips                     0\n",
       "incident_rate            0\n",
       "people_tested           52\n",
       "mortality_rate          52\n",
       "uid                      0\n",
       "testing_rate             0\n",
       "total_test_results     132\n",
       "case_fatality_ratio    132\n",
       "dtype: int64"
      ]
     },
     "execution_count": 4,
     "metadata": {},
     "output_type": "execute_result"
    }
   ],
   "source": [
    "# checking for missing values\n",
    "df_texas.isnull().sum(0)"
   ]
  },
  {
   "cell_type": "code",
   "execution_count": 5,
   "id": "9f23c611-c14a-41f0-8146-a55de6db5bb2",
   "metadata": {},
   "outputs": [],
   "source": [
    "# dropped columns with missing values. could imputate people_tested/mortality_rate, but mortality rate\n",
    "# feels like a give away considering deaths are our outcome of interest, and people_tested is associated with testing_rate\n",
    "X = df_texas.drop(columns=['deaths', 'province_state', \n",
    "                     'fips', 'uid', \n",
    "                     'case_fatality_ratio', 'mortality_rate',\n",
    "                     'people_tested', 'total_test_results']) \n",
    "y = df_texas['deaths']"
   ]
  },
  {
   "cell_type": "code",
   "execution_count": 6,
   "id": "ab73f01c-ac01-418d-8282-c629050b25ac",
   "metadata": {},
   "outputs": [
    {
     "data": {
      "text/html": [
       "<div>\n",
       "<style scoped>\n",
       "    .dataframe tbody tr th:only-of-type {\n",
       "        vertical-align: middle;\n",
       "    }\n",
       "\n",
       "    .dataframe tbody tr th {\n",
       "        vertical-align: top;\n",
       "    }\n",
       "\n",
       "    .dataframe thead th {\n",
       "        text-align: right;\n",
       "    }\n",
       "</style>\n",
       "<table border=\"1\" class=\"dataframe\">\n",
       "  <thead>\n",
       "    <tr style=\"text-align: right;\">\n",
       "      <th></th>\n",
       "      <th>confirmed</th>\n",
       "      <th>recovered</th>\n",
       "      <th>active</th>\n",
       "      <th>incident_rate</th>\n",
       "      <th>testing_rate</th>\n",
       "    </tr>\n",
       "  </thead>\n",
       "  <tbody>\n",
       "    <tr>\n",
       "      <th>0</th>\n",
       "      <td>196377</td>\n",
       "      <td>100843.0</td>\n",
       "      <td>91461.0</td>\n",
       "      <td>672.274797</td>\n",
       "      <td>7357.793336</td>\n",
       "    </tr>\n",
       "    <tr>\n",
       "      <th>1</th>\n",
       "      <td>192796</td>\n",
       "      <td>97430.0</td>\n",
       "      <td>92116.0</td>\n",
       "      <td>662.690677</td>\n",
       "      <td>7145.183828</td>\n",
       "    </tr>\n",
       "    <tr>\n",
       "      <th>2</th>\n",
       "      <td>429579</td>\n",
       "      <td>260542.0</td>\n",
       "      <td>161245.0</td>\n",
       "      <td>1476.861489</td>\n",
       "      <td>12448.230147</td>\n",
       "    </tr>\n",
       "    <tr>\n",
       "      <th>3</th>\n",
       "      <td>263551</td>\n",
       "      <td>132638.0</td>\n",
       "      <td>126908.0</td>\n",
       "      <td>906.204574</td>\n",
       "      <td>8596.924508</td>\n",
       "    </tr>\n",
       "    <tr>\n",
       "      <th>4</th>\n",
       "      <td>270707</td>\n",
       "      <td>136419.0</td>\n",
       "      <td>130083.0</td>\n",
       "      <td>930.401115</td>\n",
       "      <td>8760.295988</td>\n",
       "    </tr>\n",
       "  </tbody>\n",
       "</table>\n",
       "</div>"
      ],
      "text/plain": [
       "   confirmed  recovered    active  incident_rate  testing_rate\n",
       "0     196377   100843.0   91461.0     672.274797   7357.793336\n",
       "1     192796    97430.0   92116.0     662.690677   7145.183828\n",
       "2     429579   260542.0  161245.0    1476.861489  12448.230147\n",
       "3     263551   132638.0  126908.0     906.204574   8596.924508\n",
       "4     270707   136419.0  130083.0     930.401115   8760.295988"
      ]
     },
     "execution_count": 6,
     "metadata": {},
     "output_type": "execute_result"
    }
   ],
   "source": [
    "X.head()"
   ]
  },
  {
   "cell_type": "markdown",
   "id": "94a61d76-74f3-4d4a-9c48-64d854f841b5",
   "metadata": {},
   "source": [
    "#### Model 1: Null Model"
   ]
  },
  {
   "cell_type": "code",
   "execution_count": 7,
   "id": "9d3ca4ae-9349-4a76-9312-057b39dcda56",
   "metadata": {},
   "outputs": [
    {
     "data": {
      "text/plain": [
       "15338.282608695652"
      ]
     },
     "execution_count": 7,
     "metadata": {},
     "output_type": "execute_result"
    }
   ],
   "source": [
    "# Mean deaths\n",
    "df_texas['deaths'].mean()"
   ]
  },
  {
   "cell_type": "code",
   "execution_count": 8,
   "id": "3efbef9d-3ad3-481d-99a1-2d7a8d333569",
   "metadata": {},
   "outputs": [
    {
     "data": {
      "text/plain": [
       "0.0"
      ]
     },
     "execution_count": 8,
     "metadata": {},
     "output_type": "execute_result"
    }
   ],
   "source": [
    "# Define y\n",
    "y = df_texas['deaths']\n",
    "\n",
    "# Create a new column for the baseline target variable\n",
    "df_texas['null_deaths'] = y.mean()\n",
    "\n",
    "# Predictions for the null model\n",
    "y_preds = df_texas['null_deaths']\n",
    "\n",
    "# Null R-squared\n",
    "metrics.r2_score(y, y_preds)"
   ]
  },
  {
   "cell_type": "code",
   "execution_count": 9,
   "id": "4c654698-1ac6-4abe-98ea-0aff977c0665",
   "metadata": {},
   "outputs": [
    {
     "data": {
      "text/plain": [
       "6936.424369142072"
      ]
     },
     "execution_count": 9,
     "metadata": {},
     "output_type": "execute_result"
    }
   ],
   "source": [
    "# Null RMSE\n",
    "np.sqrt(metrics.mean_squared_error(y_true=y, y_pred=y_preds))"
   ]
  },
  {
   "cell_type": "code",
   "execution_count": 10,
   "id": "67c84767-c253-4fd1-8b2d-f7e3953238ed",
   "metadata": {},
   "outputs": [],
   "source": [
    "X = df_texas.drop(columns=['deaths', 'province_state', \n",
    "                     'fips', 'uid', \n",
    "                     'case_fatality_ratio', 'mortality_rate',\n",
    "                     'people_tested', 'total_test_results',\n",
    "                     'null_deaths']) # Removed null_deaths which was created for null model\n",
    "y = df_texas['deaths']"
   ]
  },
  {
   "cell_type": "code",
   "execution_count": 11,
   "id": "2d7d069e-ed39-4392-9546-73e4df3d8893",
   "metadata": {},
   "outputs": [
    {
     "data": {
      "text/plain": [
       "Index(['confirmed', 'recovered', 'active', 'incident_rate', 'testing_rate'], dtype='object')"
      ]
     },
     "execution_count": 11,
     "metadata": {},
     "output_type": "execute_result"
    }
   ],
   "source": [
    "X.columns"
   ]
  },
  {
   "cell_type": "markdown",
   "id": "02a3660b-fbbb-47bb-b2fe-84976c2d464b",
   "metadata": {},
   "source": [
    "#### Model 2: Linear Regression"
   ]
  },
  {
   "cell_type": "code",
   "execution_count": 12,
   "id": "5f9559d2-4283-45f1-9136-5718dc91f600",
   "metadata": {},
   "outputs": [
    {
     "data": {
      "text/plain": [
       "(0.995648370687546, 0.9985647799342894)"
      ]
     },
     "execution_count": 12,
     "metadata": {},
     "output_type": "execute_result"
    }
   ],
   "source": [
    "X_train, X_test, y_train, y_test = train_test_split(X, y, random_state=42)\n",
    "lr = LinearRegression()\n",
    "sc = StandardScaler()\n",
    "Z_train = sc.fit_transform(X_train)\n",
    "Z_test = sc.transform(X_test)\n",
    "lr.fit(Z_train, y_train)\n",
    "lr.score(Z_train, y_train), lr.score(Z_test, y_test)"
   ]
  },
  {
   "cell_type": "code",
   "execution_count": 13,
   "id": "401f212e-6934-4468-8460-a29cb30ab677",
   "metadata": {},
   "outputs": [
    {
     "data": {
      "text/plain": [
       "(455.7707680422825, 261.2977834895308)"
      ]
     },
     "execution_count": 13,
     "metadata": {},
     "output_type": "execute_result"
    }
   ],
   "source": [
    "lr_preds = lr.predict(Z_test)\n",
    "np.sqrt(metrics.mean_squared_error(y_train, lr.predict(Z_train))), np.sqrt(metrics.mean_squared_error(y_test, lr_preds))"
   ]
  },
  {
   "cell_type": "code",
   "execution_count": 14,
   "id": "e5f62a89-cc00-4597-9ed1-486ed30cb184",
   "metadata": {},
   "outputs": [
    {
     "name": "stdout",
     "output_type": "stream",
     "text": [
      "{'confirmed': 8564.794386975827, 'recovered': -172837.36429458903, 'active': -36192.85602805677, 'incident_rate': 199989.75864526688, 'testing_rate': -1648.3269803989979}\n"
     ]
    }
   ],
   "source": [
    "print(dict(zip(X.columns, lr.coef_)))"
   ]
  },
  {
   "cell_type": "markdown",
   "id": "9340f060-38b8-4edc-a72d-f43c38a32e30",
   "metadata": {},
   "source": [
    "####  PCA"
   ]
  },
  {
   "cell_type": "code",
   "execution_count": 15,
   "id": "d2820091-96d8-4c90-8d31-01c4045e80de",
   "metadata": {},
   "outputs": [],
   "source": [
    "ss = StandardScaler()\n",
    "Z_train = ss.fit_transform(X_train)\n",
    "Z_test = ss.transform(X_test)"
   ]
  },
  {
   "cell_type": "code",
   "execution_count": 16,
   "id": "3536921b-622b-4971-b7ac-3da8a5365eb2",
   "metadata": {},
   "outputs": [
    {
     "data": {
      "text/plain": [
       "array([[-0.46053952, -0.82373981],\n",
       "       [-1.88346391,  0.69502531],\n",
       "       [-0.66966596, -0.79587146],\n",
       "       [ 0.26554559, -0.6116212 ],\n",
       "       [-1.24368686, -0.31623252],\n",
       "       [ 4.46795539,  0.34761805],\n",
       "       [-1.97931476,  0.88191016],\n",
       "       [ 2.18691792,  0.34620792],\n",
       "       [-1.31210834,  0.024653  ],\n",
       "       [ 2.91307221, -0.47327827],\n",
       "       [ 2.79758869,  0.52200795],\n",
       "       [-1.10582306, -0.64628344],\n",
       "       [ 2.12787395,  0.39173151],\n",
       "       [-2.22549064,  1.04166957],\n",
       "       [ 4.63627016,  0.51951168],\n",
       "       [ 2.86688108,  0.53433048],\n",
       "       [-0.55800274, -0.81453773],\n",
       "       [-1.18127131, -0.52508232],\n",
       "       [-1.70044275,  0.56763925],\n",
       "       [ 1.17238881, -0.35524471],\n",
       "       [-3.25401345,  0.441657  ],\n",
       "       [-0.28265754, -0.76420011],\n",
       "       [-0.32376117, -0.79030856],\n",
       "       [-0.5366011 , -0.81746075],\n",
       "       [-2.33891255,  1.02354331],\n",
       "       [ 4.38816769,  0.51632932],\n",
       "       [ 0.42044502, -0.5424636 ],\n",
       "       [-2.08686765,  0.99762253],\n",
       "       [-2.08221174,  0.87674132],\n",
       "       [-0.2125668 , -0.7529622 ],\n",
       "       [-2.83520524,  0.75454447],\n",
       "       [-1.38772034,  0.20695708],\n",
       "       [-0.40564493, -0.82069018],\n",
       "       [ 1.30555956, -0.29059956],\n",
       "       [ 0.09428881, -0.68496127],\n",
       "       [ 2.99740848,  0.54161249],\n",
       "       [-2.77470255,  0.78809016],\n",
       "       [ 0.13776488, -0.65278622],\n",
       "       [ 1.04837612, -0.22750412],\n",
       "       [-3.32977099,  0.35142187],\n",
       "       [ 1.88256506,  0.19133978],\n",
       "       [-1.1789866 , -0.43153819],\n",
       "       [ 0.22053931, -0.62982645],\n",
       "       [-0.73738936, -0.8323004 ],\n",
       "       [-1.42888068,  0.33549687],\n",
       "       [ 1.01147647, -0.23547997],\n",
       "       [-2.02113504,  0.90345266],\n",
       "       [-1.26169721, -0.1372922 ],\n",
       "       [ 2.32616249,  0.44676025],\n",
       "       [ 2.23887314,  0.36237318],\n",
       "       [-2.27114608,  1.04995458],\n",
       "       [-3.18423836,  0.50067638],\n",
       "       [ 0.57416457, -0.49249165],\n",
       "       [-1.07510533, -0.59873371],\n",
       "       [-1.16101493, -0.54271233],\n",
       "       [-1.10983078, -0.55451175],\n",
       "       [-1.89897498,  0.80540266],\n",
       "       [-0.57636442, -0.80573273],\n",
       "       [-0.78348486, -0.79780172],\n",
       "       [-1.23383687, -0.35075779],\n",
       "       [ 3.95501595,  0.70450322],\n",
       "       [ 2.72295292,  0.5157285 ],\n",
       "       [-1.58977915,  0.45530867],\n",
       "       [-0.18088059, -0.74759223],\n",
       "       [ 1.82892388,  0.17635547],\n",
       "       [ 3.14005655,  0.52688456],\n",
       "       [-1.7723039 ,  0.63549871],\n",
       "       [-0.82492519, -0.77064331],\n",
       "       [-1.94519941,  0.82323869],\n",
       "       [-1.42001724,  0.27948964],\n",
       "       [ 0.64104955, -0.44864888],\n",
       "       [ 1.23403985, -0.32579093],\n",
       "       [-0.77384708, -0.42814934],\n",
       "       [ 4.67331053,  0.48499922],\n",
       "       [ 0.50986094, -0.53027832],\n",
       "       [ 1.15750255, -0.29748781],\n",
       "       [-0.05869509, -0.72924238],\n",
       "       [-1.28754719, -0.05234903],\n",
       "       [-2.1415492 ,  0.93063937],\n",
       "       [ 0.84590609, -0.36295315],\n",
       "       [ 3.67952804,  0.41375854],\n",
       "       [-2.8811446 ,  0.72354989],\n",
       "       [ 2.5390063 ,  0.4275247 ],\n",
       "       [-1.92579119,  0.76296966],\n",
       "       [-1.09770915, -0.61454396],\n",
       "       [-1.54736245,  0.44572896],\n",
       "       [-2.48430136,  0.9776023 ],\n",
       "       [-0.43386261, -0.81831469],\n",
       "       [-1.20668966, -0.3480665 ],\n",
       "       [-0.99147636, -0.71419513],\n",
       "       [ 2.99781064, -0.49132176],\n",
       "       [ 3.06414984,  0.52942586],\n",
       "       [-1.02055668, -0.72307206],\n",
       "       [-2.42187859,  1.02686499],\n",
       "       [-3.43375689,  0.30613632],\n",
       "       [-1.34133127,  0.0335241 ],\n",
       "       [ 4.1574813 ,  0.45278727],\n",
       "       [ 1.11787679, -0.25540504],\n",
       "       [-2.14738717,  0.99501954],\n",
       "       [-0.80554189, -0.78456541],\n",
       "       [ 3.04022664, -0.51052342],\n",
       "       [ 2.14950757,  0.34210059],\n",
       "       [ 4.88920094,  0.45722011],\n",
       "       [ 2.40317296,  0.49890068],\n",
       "       [-0.77225324, -0.47672893],\n",
       "       [-1.36519825,  0.12220289],\n",
       "       [-0.25832057, -0.77208466],\n",
       "       [-1.44869256,  0.38666424],\n",
       "       [ 4.78353639,  0.42596873],\n",
       "       [-1.35427102,  0.09801491],\n",
       "       [-1.62431264,  0.49745903],\n",
       "       [-1.04183179, -0.68990806],\n",
       "       [-3.5510591 ,  0.1951687 ],\n",
       "       [-1.63605702,  0.55231256],\n",
       "       [ 2.44445583,  0.44934742],\n",
       "       [ 1.58114774, -0.09862589],\n",
       "       [-1.7185014 ,  0.59059001],\n",
       "       [ 3.97738173,  0.50135092],\n",
       "       [ 4.42135456,  0.42856253],\n",
       "       [-3.346534  ,  0.36843591],\n",
       "       [-1.25835893, -0.07682235],\n",
       "       [ 2.02787185,  0.31827686],\n",
       "       [ 1.65830334, -0.06758101],\n",
       "       [ 0.92527047, -0.29742843],\n",
       "       [-0.50726738, -0.81996848],\n",
       "       [-0.38731949, -0.82157426],\n",
       "       [-0.14250872, -0.72372533],\n",
       "       [-0.75701995, -0.78356649],\n",
       "       [-1.13080464, -0.5865419 ],\n",
       "       [-0.36380826, -0.81284355],\n",
       "       [ 4.26700753,  0.45616274],\n",
       "       [-2.99457117,  0.64165999],\n",
       "       [-1.16711675, -0.42333105],\n",
       "       [-0.0927572 , -0.73387529],\n",
       "       [-3.39000555,  0.34399321],\n",
       "       [-0.65005155, -0.80453383],\n",
       "       [ 3.80671069,  0.49569904],\n",
       "       [ 0.06478111, -0.70662026]])"
      ]
     },
     "execution_count": 16,
     "metadata": {},
     "output_type": "execute_result"
    }
   ],
   "source": [
    "pca = PCA(n_components=2)\n",
    "pca.fit(Z_train)\n",
    "pca.transform(Z_train)"
   ]
  },
  {
   "cell_type": "code",
   "execution_count": 17,
   "id": "4dfb28ea-a855-4fb8-b5b8-5868f267671e",
   "metadata": {},
   "outputs": [
    {
     "data": {
      "text/plain": [
       "array([0.92677181, 0.07150961])"
      ]
     },
     "execution_count": 17,
     "metadata": {},
     "output_type": "execute_result"
    }
   ],
   "source": [
    "var_exp = pca.explained_variance_ratio_\n",
    "var_exp"
   ]
  },
  {
   "cell_type": "code",
   "execution_count": 18,
   "id": "367fdad7-6ecb-4744-ac4f-7c1dfb89323c",
   "metadata": {},
   "outputs": [
    {
     "data": {
      "text/plain": [
       "array([0.92677181, 0.99828142])"
      ]
     },
     "execution_count": 18,
     "metadata": {},
     "output_type": "execute_result"
    }
   ],
   "source": [
    "cum_var_exp = np.cumsum(var_exp)\n",
    "cum_var_exp"
   ]
  },
  {
   "cell_type": "markdown",
   "id": "4624b32a-e372-42b1-9e97-c207d1e7b507",
   "metadata": {},
   "source": [
    "PCA model was ran to observe the predictive capability of our model.\n",
    "Ultimately, PCA does not offer interpretability, so we did not proceed with PCA"
   ]
  },
  {
   "cell_type": "markdown",
   "id": "0557fda4-1312-4f24-b6ba-cf3095817936",
   "metadata": {},
   "source": [
    "#### Model 3: Ridge Regression"
   ]
  },
  {
   "cell_type": "code",
   "execution_count": 19,
   "id": "2658148d-5fa0-426c-afe8-cf3d4171863b",
   "metadata": {},
   "outputs": [],
   "source": [
    "# setting up ridge model and parameters\n",
    "ridge_reg = Ridge()\n",
    "\n",
    "params_ridge = {'alpha': [1,0.1,0.01,0.001,0.0001,0], \n",
    "                \"fit_intercept\": [True, False], \n",
    "                \"solver\": ['svd', 'cholesky', 'lsqr', 'sparse_cg', 'sag', 'saga']}"
   ]
  },
  {
   "cell_type": "code",
   "execution_count": 20,
   "id": "c97b2ff2-3653-4620-9917-5457eef670d7",
   "metadata": {},
   "outputs": [],
   "source": [
    "# setting up X and y\n",
    "X = df_texas.drop(columns=['deaths', 'province_state', \n",
    "                     'fips', 'uid', \n",
    "                     'case_fatality_ratio', 'mortality_rate',\n",
    "                     'people_tested', 'total_test_results',\n",
    "                     'null_deaths']) # Removed null_deaths which was created for null model\n",
    "y = df_texas['deaths']"
   ]
  },
  {
   "cell_type": "code",
   "execution_count": 21,
   "id": "a9013a6d-1fe8-49fb-9733-eaf2865b2be3",
   "metadata": {},
   "outputs": [
    {
     "data": {
      "text/plain": [
       "Index(['confirmed', 'recovered', 'active', 'incident_rate', 'testing_rate'], dtype='object')"
      ]
     },
     "execution_count": 21,
     "metadata": {},
     "output_type": "execute_result"
    }
   ],
   "source": [
    "X.columns"
   ]
  },
  {
   "cell_type": "code",
   "execution_count": 22,
   "id": "9ab75db0-6987-4736-8dc2-92a6186a8926",
   "metadata": {},
   "outputs": [
    {
     "data": {
      "text/plain": [
       "(184, 5)"
      ]
     },
     "execution_count": 22,
     "metadata": {},
     "output_type": "execute_result"
    }
   ],
   "source": [
    "X.shape"
   ]
  },
  {
   "cell_type": "code",
   "execution_count": 23,
   "id": "0c0d353a-afe1-4541-9761-5305bbe7bf87",
   "metadata": {},
   "outputs": [],
   "source": [
    "# train-test-split\n",
    "X_train, X_test, y_train, y_test = train_test_split(X, y, random_state=42)"
   ]
  },
  {
   "cell_type": "code",
   "execution_count": 24,
   "id": "686b366c-cd93-45fc-868f-3968defaf15b",
   "metadata": {},
   "outputs": [
    {
     "data": {
      "text/plain": [
       "{'alpha': 1, 'fit_intercept': True, 'solver': 'lsqr'}"
      ]
     },
     "execution_count": 24,
     "metadata": {},
     "output_type": "execute_result"
    }
   ],
   "source": [
    "# performing our gridsearch\n",
    "ridge_gs = GridSearchCV(ridge_reg, param_grid=params_ridge, n_jobs=-1)\n",
    "ridge_gs.fit(X_train,y_train)\n",
    "ridge_gs.best_params_"
   ]
  },
  {
   "cell_type": "code",
   "execution_count": 25,
   "id": "da04a4d2-1542-41be-a5f3-0e36250da40a",
   "metadata": {},
   "outputs": [
    {
     "data": {
      "text/plain": [
       "0.9904466613577471"
      ]
     },
     "execution_count": 25,
     "metadata": {},
     "output_type": "execute_result"
    }
   ],
   "source": [
    "ridge_gs.best_score_"
   ]
  },
  {
   "cell_type": "code",
   "execution_count": 26,
   "id": "5609e48f-24e8-46b8-afc2-0711dd0582e9",
   "metadata": {},
   "outputs": [],
   "source": [
    "# setting up ridge model with best paramters\n",
    "ridge_reg = Ridge(alpha = 0.01, solver='lsqr')"
   ]
  },
  {
   "cell_type": "code",
   "execution_count": 27,
   "id": "9f3178a9-bb72-478f-a048-9a169d017262",
   "metadata": {},
   "outputs": [],
   "source": [
    "# scaling the data\n",
    "sc = StandardScaler()\n",
    "Z_train = sc.fit_transform(X_train)\n",
    "Z_test = sc.transform(X_test)"
   ]
  },
  {
   "cell_type": "code",
   "execution_count": 28,
   "id": "f5db02de-7e7b-4661-a22a-fdb4389edcb2",
   "metadata": {},
   "outputs": [
    {
     "data": {
      "text/plain": [
       "(0.9919204551916379, 0.9951482276251205)"
      ]
     },
     "execution_count": 28,
     "metadata": {},
     "output_type": "execute_result"
    }
   ],
   "source": [
    "# fitting our data with the best paramters\n",
    "ridge_reg.fit(Z_train, y_train)\n",
    "ridge_reg.score(Z_train, y_train), ridge_reg.score(Z_test, y_test)"
   ]
  },
  {
   "cell_type": "code",
   "execution_count": 29,
   "id": "965d900d-eb5b-4e4a-9af0-04b931494618",
   "metadata": {},
   "outputs": [
    {
     "data": {
      "text/plain": [
       "(621.0319838241048, 480.42620227777957)"
      ]
     },
     "execution_count": 29,
     "metadata": {},
     "output_type": "execute_result"
    }
   ],
   "source": [
    "# calculating predictions and RMSE\n",
    "ridge_reg_preds = ridge_reg.predict(Z_test)\n",
    "np.sqrt(metrics.mean_squared_error(y_train, ridge_reg.predict(Z_train))), np.sqrt(metrics.mean_squared_error(y_test, ridge_reg_preds))"
   ]
  },
  {
   "cell_type": "code",
   "execution_count": 30,
   "id": "fd73f7ff-f7e8-48a1-84e0-1401a45d8a31",
   "metadata": {},
   "outputs": [
    {
     "name": "stdout",
     "output_type": "stream",
     "text": [
      "{'confirmed': 13189.337554293394, 'recovered': -1626.3541612302113, 'active': -2808.646648365356, 'incident_rate': -39.72158728365753, 'testing_rate': -2615.85387620089}\n"
     ]
    }
   ],
   "source": [
    "# evaluating coefficients\n",
    "print(dict(zip(X.columns, ridge_reg.coef_)))"
   ]
  },
  {
   "cell_type": "code",
   "execution_count": 31,
   "id": "8d35872a-6901-4821-bf9a-af7c92d2f75c",
   "metadata": {},
   "outputs": [
    {
     "data": {
      "image/png": "[encoded data removed]",
      "text/plain": [
       "<Figure size 720x576 with 1 Axes>"
      ]
     },
     "metadata": {
      "needs_background": "light"
     },
     "output_type": "display_data"
    }
   ],
   "source": [
    "# visualizing coefficients\n",
    "features = ['confirmed', 'recovered', 'active', 'incident_rate', 'testing_rate']\n",
    "pd.Series(ridge_reg.coef_, index=features).plot.bar(figsize=(10, 8));"
   ]
  },
  {
   "cell_type": "code",
   "execution_count": 32,
   "id": "7f99b9f5-f616-4713-8ed0-c3a3dff5bddb",
   "metadata": {},
   "outputs": [
    {
     "data": {
      "image/png": "[encoded data removed]",
      "text/plain": [
       "<Figure size 432x288 with 1 Axes>"
      ]
     },
     "metadata": {
      "needs_background": "light"
     },
     "output_type": "display_data"
    }
   ],
   "source": [
    "# comparing test values with model predicted values\n",
    "plt.scatter(ridge_reg_preds, y_test)\n",
    "plt.title('Baseline vs Production Model')\n",
    "plt.ylabel('Test Deaths')\n",
    "plt.xlabel('Predicted Deaths')\n",
    "plt.axhline(df_texas['deaths'].mean(), color='orange');"
   ]
  },
  {
   "cell_type": "markdown",
   "id": "0990534e-e374-4feb-9ba2-7168ca192f79",
   "metadata": {},
   "source": [
    "**Interpretation:**\n",
    "Our R-squared on unseen data is 99.5%, and our RMSE on unseen data is 480.43.\n",
    "\n",
    "Because this model has the best values for our metrics of interest, we will use Ridge Regression as our production model"
   ]
  },
  {
   "cell_type": "markdown",
   "id": "a33e8fd8-1944-4b66-9077-40430ef8ea36",
   "metadata": {},
   "source": [
    "#### Model 4: Lasso Regression"
   ]
  },
  {
   "cell_type": "code",
   "execution_count": 33,
   "id": "6b00ee43-e569-4009-b018-87b727057472",
   "metadata": {},
   "outputs": [],
   "source": [
    "# setting up lasso model\n",
    "lasso_reg = Lasso()"
   ]
  },
  {
   "cell_type": "code",
   "execution_count": 34,
   "id": "2ec926e1-e347-4c6e-8ae2-b842f9681b8f",
   "metadata": {},
   "outputs": [],
   "source": [
    "# grid search parameters\n",
    "params_lasso = {'alpha': [1,0.1,0.01,0.001,0.0001,0], \n",
    "                \"fit_intercept\": [True, False], \n",
    "                \"selection\": ['cyclic', 'random']}"
   ]
  },
  {
   "cell_type": "code",
   "execution_count": 35,
   "id": "cf00e01e-76bb-4dbf-8c05-27977784378b",
   "metadata": {},
   "outputs": [],
   "source": [
    "# setting up X and y\n",
    "X = df_texas.drop(columns=['deaths', 'province_state', \n",
    "                     'fips', 'uid', \n",
    "                     'case_fatality_ratio', 'mortality_rate',\n",
    "                     'people_tested', 'total_test_results',\n",
    "                     'null_deaths']) # Removed null_deaths which was created for null model\n",
    "y = df_texas['deaths']"
   ]
  },
  {
   "cell_type": "code",
   "execution_count": 36,
   "id": "84e0c253-a510-4536-ac8d-64d2b9629007",
   "metadata": {},
   "outputs": [],
   "source": [
    "# train test split\n",
    "X_train, X_test, y_train, y_test = train_test_split(X, y, random_state=42)"
   ]
  },
  {
   "cell_type": "code",
   "execution_count": 37,
   "id": "ace68195-94bf-4e46-9407-48e1fb213541",
   "metadata": {
    "collapsed": true,
    "jupyter": {
     "outputs_hidden": true
    },
    "tags": []
   },
   "outputs": [
    {
     "name": "stderr",
     "output_type": "stream",
     "text": [
      "/Users/ericrodriguez/opt/anaconda3/lib/python3.8/site-packages/sklearn/linear_model/_coordinate_descent.py:647: ConvergenceWarning: Objective did not converge. You might want to increase the number of iterations, check the scale of the features or consider increasing regularisation. Duality gap: 2.058e+07, tolerance: 5.186e+05\n",
      "  model = cd_fast.enet_coordinate_descent(\n",
      "/Users/ericrodriguez/opt/anaconda3/lib/python3.8/site-packages/sklearn/linear_model/_coordinate_descent.py:647: ConvergenceWarning: Objective did not converge. You might want to increase the number of iterations, check the scale of the features or consider increasing regularisation. Duality gap: 2.304e+07, tolerance: 5.327e+05\n",
      "  model = cd_fast.enet_coordinate_descent(\n",
      "/Users/ericrodriguez/opt/anaconda3/lib/python3.8/site-packages/sklearn/linear_model/_coordinate_descent.py:647: ConvergenceWarning: Objective did not converge. You might want to increase the number of iterations, check the scale of the features or consider increasing regularisation. Duality gap: 1.104e+08, tolerance: 3.197e+06\n",
      "  model = cd_fast.enet_coordinate_descent(\n",
      "/Users/ericrodriguez/opt/anaconda3/lib/python3.8/site-packages/sklearn/linear_model/_coordinate_descent.py:647: ConvergenceWarning: Objective did not converge. You might want to increase the number of iterations, check the scale of the features or consider increasing regularisation. Duality gap: 1.214e+08, tolerance: 3.378e+06\n",
      "  model = cd_fast.enet_coordinate_descent(\n",
      "/Users/ericrodriguez/opt/anaconda3/lib/python3.8/site-packages/sklearn/linear_model/_coordinate_descent.py:647: ConvergenceWarning: Objective did not converge. You might want to increase the number of iterations, check the scale of the features or consider increasing regularisation. Duality gap: 9.305e+07, tolerance: 3.247e+06\n",
      "  model = cd_fast.enet_coordinate_descent(\n",
      "/Users/ericrodriguez/opt/anaconda3/lib/python3.8/site-packages/sklearn/linear_model/_coordinate_descent.py:647: ConvergenceWarning: Objective did not converge. You might want to increase the number of iterations, check the scale of the features or consider increasing regularisation. Duality gap: 1.153e+08, tolerance: 3.230e+06\n",
      "  model = cd_fast.enet_coordinate_descent(\n",
      "/Users/ericrodriguez/opt/anaconda3/lib/python3.8/site-packages/sklearn/linear_model/_coordinate_descent.py:647: ConvergenceWarning: Objective did not converge. You might want to increase the number of iterations, check the scale of the features or consider increasing regularisation. Duality gap: 1.851e+07, tolerance: 5.194e+05\n",
      "  model = cd_fast.enet_coordinate_descent(\n",
      "/Users/ericrodriguez/opt/anaconda3/lib/python3.8/site-packages/sklearn/linear_model/_coordinate_descent.py:647: ConvergenceWarning: Objective did not converge. You might want to increase the number of iterations, check the scale of the features or consider increasing regularisation. Duality gap: 2.484e+07, tolerance: 5.231e+05\n",
      "  model = cd_fast.enet_coordinate_descent(\n",
      "/Users/ericrodriguez/opt/anaconda3/lib/python3.8/site-packages/sklearn/linear_model/_coordinate_descent.py:647: ConvergenceWarning: Objective did not converge. You might want to increase the number of iterations, check the scale of the features or consider increasing regularisation. Duality gap: 1.104e+08, tolerance: 3.197e+06\n",
      "  model = cd_fast.enet_coordinate_descent(\n",
      "/Users/ericrodriguez/opt/anaconda3/lib/python3.8/site-packages/sklearn/linear_model/_coordinate_descent.py:647: ConvergenceWarning: Objective did not converge. You might want to increase the number of iterations, check the scale of the features or consider increasing regularisation. Duality gap: 1.214e+08, tolerance: 3.378e+06\n",
      "  model = cd_fast.enet_coordinate_descent(\n",
      "/Users/ericrodriguez/opt/anaconda3/lib/python3.8/site-packages/sklearn/linear_model/_coordinate_descent.py:647: ConvergenceWarning: Objective did not converge. You might want to increase the number of iterations, check the scale of the features or consider increasing regularisation. Duality gap: 2.258e+07, tolerance: 5.231e+05\n",
      "  model = cd_fast.enet_coordinate_descent(\n",
      "/Users/ericrodriguez/opt/anaconda3/lib/python3.8/site-packages/sklearn/linear_model/_coordinate_descent.py:647: ConvergenceWarning: Objective did not converge. You might want to increase the number of iterations, check the scale of the features or consider increasing regularisation. Duality gap: 2.196e+07, tolerance: 5.186e+05\n",
      "  model = cd_fast.enet_coordinate_descent(\n",
      "/Users/ericrodriguez/opt/anaconda3/lib/python3.8/site-packages/sklearn/linear_model/_coordinate_descent.py:647: ConvergenceWarning: Objective did not converge. You might want to increase the number of iterations, check the scale of the features or consider increasing regularisation. Duality gap: 2.436e+07, tolerance: 5.327e+05\n",
      "  model = cd_fast.enet_coordinate_descent(\n",
      "/Users/ericrodriguez/opt/anaconda3/lib/python3.8/site-packages/sklearn/linear_model/_coordinate_descent.py:647: ConvergenceWarning: Objective did not converge. You might want to increase the number of iterations, check the scale of the features or consider increasing regularisation. Duality gap: 2.692e+07, tolerance: 5.393e+05\n",
      "  model = cd_fast.enet_coordinate_descent(\n",
      "/Users/ericrodriguez/opt/anaconda3/lib/python3.8/site-packages/sklearn/linear_model/_coordinate_descent.py:647: ConvergenceWarning: Objective did not converge. You might want to increase the number of iterations, check the scale of the features or consider increasing regularisation. Duality gap: 2.258e+07, tolerance: 5.231e+05\n",
      "  model = cd_fast.enet_coordinate_descent(\n",
      "/Users/ericrodriguez/opt/anaconda3/lib/python3.8/site-packages/sklearn/linear_model/_coordinate_descent.py:647: ConvergenceWarning: Objective did not converge. You might want to increase the number of iterations, check the scale of the features or consider increasing regularisation. Duality gap: 2.332e+07, tolerance: 5.186e+05\n",
      "  model = cd_fast.enet_coordinate_descent(\n",
      "/Users/ericrodriguez/opt/anaconda3/lib/python3.8/site-packages/sklearn/linear_model/_coordinate_descent.py:647: ConvergenceWarning: Objective did not converge. You might want to increase the number of iterations, check the scale of the features or consider increasing regularisation. Duality gap: 2.435e+07, tolerance: 5.327e+05\n",
      "  model = cd_fast.enet_coordinate_descent(\n",
      "/Users/ericrodriguez/opt/anaconda3/lib/python3.8/site-packages/sklearn/linear_model/_coordinate_descent.py:647: ConvergenceWarning: Objective did not converge. You might want to increase the number of iterations, check the scale of the features or consider increasing regularisation. Duality gap: 2.533e+07, tolerance: 5.393e+05\n",
      "  model = cd_fast.enet_coordinate_descent(\n",
      "/Users/ericrodriguez/opt/anaconda3/lib/python3.8/site-packages/sklearn/linear_model/_coordinate_descent.py:647: ConvergenceWarning: Objective did not converge. You might want to increase the number of iterations, check the scale of the features or consider increasing regularisation. Duality gap: 1.874e+07, tolerance: 5.194e+05\n",
      "  model = cd_fast.enet_coordinate_descent(\n",
      "/Users/ericrodriguez/opt/anaconda3/lib/python3.8/site-packages/sklearn/linear_model/_coordinate_descent.py:647: ConvergenceWarning: Objective did not converge. You might want to increase the number of iterations, check the scale of the features or consider increasing regularisation. Duality gap: 2.408e+07, tolerance: 5.231e+05\n",
      "  model = cd_fast.enet_coordinate_descent(\n",
      "/Users/ericrodriguez/opt/anaconda3/lib/python3.8/site-packages/sklearn/linear_model/_coordinate_descent.py:647: ConvergenceWarning: Objective did not converge. You might want to increase the number of iterations, check the scale of the features or consider increasing regularisation. Duality gap: 1.104e+08, tolerance: 3.197e+06\n",
      "  model = cd_fast.enet_coordinate_descent(\n",
      "/Users/ericrodriguez/opt/anaconda3/lib/python3.8/site-packages/sklearn/linear_model/_coordinate_descent.py:647: ConvergenceWarning: Objective did not converge. You might want to increase the number of iterations, check the scale of the features or consider increasing regularisation. Duality gap: 1.214e+08, tolerance: 3.378e+06\n",
      "  model = cd_fast.enet_coordinate_descent(\n",
      "/Users/ericrodriguez/opt/anaconda3/lib/python3.8/site-packages/sklearn/model_selection/_validation.py:680: UserWarning: With alpha=0, this algorithm does not converge well. You are advised to use the LinearRegression estimator\n",
      "  estimator.fit(X_train, y_train, **fit_params)\n",
      "/Users/ericrodriguez/opt/anaconda3/lib/python3.8/site-packages/sklearn/linear_model/_coordinate_descent.py:647: ConvergenceWarning: Objective did not converge. You might want to increase the number of iterations, check the scale of the features or consider increasing regularisation. Duality gap: 2.239e+07, tolerance: 5.327e+05\n",
      "  model = cd_fast.enet_coordinate_descent(\n",
      "/Users/ericrodriguez/opt/anaconda3/lib/python3.8/site-packages/sklearn/linear_model/_coordinate_descent.py:647: ConvergenceWarning: Objective did not converge. You might want to increase the number of iterations, check the scale of the features or consider increasing regularisation. Duality gap: 2.258e+07, tolerance: 5.231e+05\n",
      "  model = cd_fast.enet_coordinate_descent(\n",
      "/Users/ericrodriguez/opt/anaconda3/lib/python3.8/site-packages/sklearn/linear_model/_coordinate_descent.py:647: ConvergenceWarning: Objective did not converge. You might want to increase the number of iterations, check the scale of the features or consider increasing regularisation. Duality gap: 1.142e+08, tolerance: 3.211e+06\n",
      "  model = cd_fast.enet_coordinate_descent(\n",
      "/Users/ericrodriguez/opt/anaconda3/lib/python3.8/site-packages/sklearn/linear_model/_coordinate_descent.py:647: ConvergenceWarning: Objective did not converge. You might want to increase the number of iterations, check the scale of the features or consider increasing regularisation. Duality gap: 9.379e+07, tolerance: 3.247e+06\n",
      "  model = cd_fast.enet_coordinate_descent(\n",
      "/Users/ericrodriguez/opt/anaconda3/lib/python3.8/site-packages/sklearn/linear_model/_coordinate_descent.py:647: ConvergenceWarning: Objective did not converge. You might want to increase the number of iterations, check the scale of the features or consider increasing regularisation. Duality gap: 2.058e+07, tolerance: 5.186e+05\n",
      "  model = cd_fast.enet_coordinate_descent(\n",
      "/Users/ericrodriguez/opt/anaconda3/lib/python3.8/site-packages/sklearn/linear_model/_coordinate_descent.py:647: ConvergenceWarning: Objective did not converge. You might want to increase the number of iterations, check the scale of the features or consider increasing regularisation. Duality gap: 2.239e+07, tolerance: 5.327e+05\n",
      "  model = cd_fast.enet_coordinate_descent(\n",
      "/Users/ericrodriguez/opt/anaconda3/lib/python3.8/site-packages/sklearn/linear_model/_coordinate_descent.py:647: ConvergenceWarning: Objective did not converge. You might want to increase the number of iterations, check the scale of the features or consider increasing regularisation. Duality gap: 1.215e+08, tolerance: 3.378e+06\n",
      "  model = cd_fast.enet_coordinate_descent(\n",
      "/Users/ericrodriguez/opt/anaconda3/lib/python3.8/site-packages/sklearn/linear_model/_coordinate_descent.py:647: ConvergenceWarning: Objective did not converge. You might want to increase the number of iterations, check the scale of the features or consider increasing regularisation. Duality gap: 1.164e+08, tolerance: 3.211e+06\n",
      "  model = cd_fast.enet_coordinate_descent(\n",
      "/Users/ericrodriguez/opt/anaconda3/lib/python3.8/site-packages/sklearn/linear_model/_coordinate_descent.py:647: ConvergenceWarning: Objective did not converge. You might want to increase the number of iterations, check the scale of the features or consider increasing regularisation. Duality gap: 9.004e+07, tolerance: 3.247e+06\n",
      "  model = cd_fast.enet_coordinate_descent(\n",
      "/Users/ericrodriguez/opt/anaconda3/lib/python3.8/site-packages/sklearn/linear_model/_coordinate_descent.py:647: ConvergenceWarning: Objective did not converge. You might want to increase the number of iterations, check the scale of the features or consider increasing regularisation. Duality gap: 1.119e+08, tolerance: 3.230e+06\n",
      "  model = cd_fast.enet_coordinate_descent(\n",
      "/Users/ericrodriguez/opt/anaconda3/lib/python3.8/site-packages/sklearn/linear_model/_coordinate_descent.py:647: ConvergenceWarning: Objective did not converge. You might want to increase the number of iterations, check the scale of the features or consider increasing regularisation. Duality gap: 1.665e+07, tolerance: 5.194e+05\n",
      "  model = cd_fast.enet_coordinate_descent(\n",
      "/Users/ericrodriguez/opt/anaconda3/lib/python3.8/site-packages/sklearn/linear_model/_coordinate_descent.py:647: ConvergenceWarning: Objective did not converge. You might want to increase the number of iterations, check the scale of the features or consider increasing regularisation. Duality gap: 2.520e+07, tolerance: 5.231e+05\n",
      "  model = cd_fast.enet_coordinate_descent(\n",
      "/Users/ericrodriguez/opt/anaconda3/lib/python3.8/site-packages/sklearn/linear_model/_coordinate_descent.py:647: ConvergenceWarning: Objective did not converge. You might want to increase the number of iterations, check the scale of the features or consider increasing regularisation. Duality gap: 1.104e+08, tolerance: 3.197e+06\n",
      "  model = cd_fast.enet_coordinate_descent(\n",
      "/Users/ericrodriguez/opt/anaconda3/lib/python3.8/site-packages/sklearn/linear_model/_coordinate_descent.py:647: ConvergenceWarning: Objective did not converge. You might want to increase the number of iterations, check the scale of the features or consider increasing regularisation. Duality gap: 1.214e+08, tolerance: 3.378e+06\n",
      "  model = cd_fast.enet_coordinate_descent(\n",
      "/Users/ericrodriguez/opt/anaconda3/lib/python3.8/site-packages/sklearn/linear_model/_coordinate_descent.py:647: ConvergenceWarning: Objective did not converge. You might want to increase the number of iterations, check the scale of the features or consider increasing regularisation. Duality gap: 2.058e+07, tolerance: 5.186e+05\n",
      "  model = cd_fast.enet_coordinate_descent(\n",
      "/Users/ericrodriguez/opt/anaconda3/lib/python3.8/site-packages/sklearn/linear_model/_coordinate_descent.py:647: ConvergenceWarning: Objective did not converge. You might want to increase the number of iterations, check the scale of the features or consider increasing regularisation. Duality gap: 2.239e+07, tolerance: 5.327e+05\n",
      "  model = cd_fast.enet_coordinate_descent(\n",
      "/Users/ericrodriguez/opt/anaconda3/lib/python3.8/site-packages/sklearn/linear_model/_coordinate_descent.py:647: ConvergenceWarning: Objective did not converge. You might want to increase the number of iterations, check the scale of the features or consider increasing regularisation. Duality gap: 2.411e+07, tolerance: 5.393e+05\n",
      "  model = cd_fast.enet_coordinate_descent(\n",
      "/Users/ericrodriguez/opt/anaconda3/lib/python3.8/site-packages/sklearn/linear_model/_coordinate_descent.py:647: ConvergenceWarning: Objective did not converge. You might want to increase the number of iterations, check the scale of the features or consider increasing regularisation. Duality gap: 1.585e+07, tolerance: 5.194e+05\n",
      "  model = cd_fast.enet_coordinate_descent(\n",
      "/Users/ericrodriguez/opt/anaconda3/lib/python3.8/site-packages/sklearn/linear_model/_coordinate_descent.py:647: ConvergenceWarning: Objective did not converge. You might want to increase the number of iterations, check the scale of the features or consider increasing regularisation. Duality gap: 2.258e+07, tolerance: 5.231e+05\n",
      "  model = cd_fast.enet_coordinate_descent(\n",
      "/Users/ericrodriguez/opt/anaconda3/lib/python3.8/site-packages/sklearn/linear_model/_coordinate_descent.py:647: ConvergenceWarning: Objective did not converge. You might want to increase the number of iterations, check the scale of the features or consider increasing regularisation. Duality gap: 2.305e+07, tolerance: 5.186e+05\n",
      "  model = cd_fast.enet_coordinate_descent(\n",
      "/Users/ericrodriguez/opt/anaconda3/lib/python3.8/site-packages/sklearn/linear_model/_coordinate_descent.py:647: ConvergenceWarning: Objective did not converge. You might want to increase the number of iterations, check the scale of the features or consider increasing regularisation. Duality gap: 2.529e+07, tolerance: 5.327e+05\n",
      "  model = cd_fast.enet_coordinate_descent(\n",
      "/Users/ericrodriguez/opt/anaconda3/lib/python3.8/site-packages/sklearn/linear_model/_coordinate_descent.py:647: ConvergenceWarning: Objective did not converge. You might want to increase the number of iterations, check the scale of the features or consider increasing regularisation. Duality gap: 2.636e+07, tolerance: 5.393e+05\n",
      "  model = cd_fast.enet_coordinate_descent(\n",
      "/Users/ericrodriguez/opt/anaconda3/lib/python3.8/site-packages/sklearn/model_selection/_validation.py:680: UserWarning: With alpha=0, this algorithm does not converge well. You are advised to use the LinearRegression estimator\n",
      "  estimator.fit(X_train, y_train, **fit_params)\n",
      "/Users/ericrodriguez/opt/anaconda3/lib/python3.8/site-packages/sklearn/linear_model/_coordinate_descent.py:647: ConvergenceWarning: Objective did not converge. You might want to increase the number of iterations, check the scale of the features or consider increasing regularisation. Duality gap: 2.668e+07, tolerance: 6.587e+05\n",
      "  model = cd_fast.enet_coordinate_descent(\n"
     ]
    },
    {
     "data": {
      "text/plain": [
       "{'alpha': 1, 'fit_intercept': True, 'selection': 'cyclic'}"
      ]
     },
     "execution_count": 37,
     "metadata": {},
     "output_type": "execute_result"
    }
   ],
   "source": [
    "# performing gridsearch on lasso model\n",
    "lasso_gs = GridSearchCV(lasso_reg, param_grid=params_lasso, n_jobs=-1)\n",
    "lasso_gs.fit(X_train,y_train)\n",
    "lasso_gs.best_params_"
   ]
  },
  {
   "cell_type": "code",
   "execution_count": 38,
   "id": "0d5bbb88-25e8-4f5e-913e-f78f617a772a",
   "metadata": {},
   "outputs": [
    {
     "data": {
      "text/plain": [
       "0.991148026858958"
      ]
     },
     "execution_count": 38,
     "metadata": {},
     "output_type": "execute_result"
    }
   ],
   "source": [
    "lasso_gs.best_score_"
   ]
  },
  {
   "cell_type": "code",
   "execution_count": 39,
   "id": "7ffc10e7-4440-4db1-bcf0-e507f2d730ea",
   "metadata": {},
   "outputs": [],
   "source": [
    "# setting up lasso model with best parameters\n",
    "lasso_reg = Lasso(alpha = 1, selection='cyclic')"
   ]
  },
  {
   "cell_type": "code",
   "execution_count": 40,
   "id": "0cedc162-21ca-4b6e-bd7d-3906f290a2d3",
   "metadata": {},
   "outputs": [],
   "source": [
    "# scaling the data\n",
    "sc = StandardScaler()\n",
    "Z_train = sc.fit_transform(X_train)\n",
    "Z_test = sc.transform(X_test)"
   ]
  },
  {
   "cell_type": "code",
   "execution_count": 41,
   "id": "61ca3cba-d285-4fd6-966f-98b9765ba9b3",
   "metadata": {},
   "outputs": [
    {
     "name": "stderr",
     "output_type": "stream",
     "text": [
      "/Users/ericrodriguez/opt/anaconda3/lib/python3.8/site-packages/sklearn/linear_model/_coordinate_descent.py:647: ConvergenceWarning: Objective did not converge. You might want to increase the number of iterations, check the scale of the features or consider increasing regularisation. Duality gap: 1.443e+07, tolerance: 6.587e+05\n",
      "  model = cd_fast.enet_coordinate_descent(\n"
     ]
    },
    {
     "data": {
      "text/plain": [
       "(0.991730792800147, 0.9948596502742886)"
      ]
     },
     "execution_count": 41,
     "metadata": {},
     "output_type": "execute_result"
    }
   ],
   "source": [
    "# fitting our data with the best parameters\n",
    "lasso_reg.fit(Z_train, y_train)\n",
    "lasso_reg.score(Z_train, y_train), lasso_reg.score(Z_test, y_test)"
   ]
  },
  {
   "cell_type": "code",
   "execution_count": 42,
   "id": "bb8f3ae5-2fe9-490f-a7a9-ef155748a847",
   "metadata": {},
   "outputs": [
    {
     "data": {
      "text/plain": [
       "(628.2788751455299, 494.50741790818734)"
      ]
     },
     "execution_count": 42,
     "metadata": {},
     "output_type": "execute_result"
    }
   ],
   "source": [
    "# calculating predictions and RMSE\n",
    "lasso_reg_preds = lasso_reg.predict(Z_test)\n",
    "np.sqrt(metrics.mean_squared_error(y_train, lasso_reg.predict(Z_train))), np.sqrt(metrics.mean_squared_error(y_test, lasso_reg_preds))"
   ]
  },
  {
   "cell_type": "code",
   "execution_count": 43,
   "id": "d46182d9-4580-4a20-9080-5910508cd5be",
   "metadata": {},
   "outputs": [
    {
     "name": "stdout",
     "output_type": "stream",
     "text": [
      "{'confirmed': 10846.483542898348, 'recovered': -1250.8800740937777, 'active': -2730.2334714928893, 'incident_rate': 803.1091806968639, 'testing_rate': -1548.7465694162004}\n"
     ]
    }
   ],
   "source": [
    "# evaluating lasso model coefficients\n",
    "print(dict(zip(X.columns, lasso_reg.coef_)))"
   ]
  },
  {
   "cell_type": "code",
   "execution_count": 44,
   "id": "43d1c3bf-6968-4e1e-b866-3cbf7fef82af",
   "metadata": {},
   "outputs": [
    {
     "data": {
      "image/png": "[encoded data removed]",
      "text/plain": [
       "<Figure size 1080x504 with 1 Axes>"
      ]
     },
     "metadata": {
      "needs_background": "light"
     },
     "output_type": "display_data"
    }
   ],
   "source": [
    "# visualizing coefficients\n",
    "features = ['confirmed', 'recovered', 'active', 'incident_rate', 'testing_rate']\n",
    "pd.Series(lasso_reg.coef_, index=features).plot.bar(figsize=(15, 7));"
   ]
  },
  {
   "cell_type": "code",
   "execution_count": 45,
   "id": "3692eb8a-fd44-419d-8eb3-9064fed3da48",
   "metadata": {},
   "outputs": [
    {
     "data": {
      "image/png": "[encoded data removed]",
      "text/plain": [
       "<Figure size 432x288 with 1 Axes>"
      ]
     },
     "metadata": {
      "needs_background": "light"
     },
     "output_type": "display_data"
    },
    {
     "name": "stderr",
     "output_type": "stream",
     "text": [
      "/Users/ericrodriguez/opt/anaconda3/lib/python3.8/site-packages/sklearn/linear_model/_coordinate_descent.py:647: ConvergenceWarning: Objective did not converge. You might want to increase the number of iterations, check the scale of the features or consider increasing regularisation. Duality gap: 2.411e+07, tolerance: 5.393e+05\n",
      "  model = cd_fast.enet_coordinate_descent(\n",
      "/Users/ericrodriguez/opt/anaconda3/lib/python3.8/site-packages/sklearn/linear_model/_coordinate_descent.py:647: ConvergenceWarning: Objective did not converge. You might want to increase the number of iterations, check the scale of the features or consider increasing regularisation. Duality gap: 2.350e+07, tolerance: 5.186e+05\n",
      "  model = cd_fast.enet_coordinate_descent(\n",
      "/Users/ericrodriguez/opt/anaconda3/lib/python3.8/site-packages/sklearn/linear_model/_coordinate_descent.py:647: ConvergenceWarning: Objective did not converge. You might want to increase the number of iterations, check the scale of the features or consider increasing regularisation. Duality gap: 2.644e+07, tolerance: 5.393e+05\n",
      "  model = cd_fast.enet_coordinate_descent(\n",
      "/Users/ericrodriguez/opt/anaconda3/lib/python3.8/site-packages/sklearn/linear_model/_coordinate_descent.py:647: ConvergenceWarning: Objective did not converge. You might want to increase the number of iterations, check the scale of the features or consider increasing regularisation. Duality gap: 1.138e+08, tolerance: 3.230e+06\n",
      "  model = cd_fast.enet_coordinate_descent(\n",
      "/Users/ericrodriguez/opt/anaconda3/lib/python3.8/site-packages/sklearn/linear_model/_coordinate_descent.py:647: ConvergenceWarning: Objective did not converge. You might want to increase the number of iterations, check the scale of the features or consider increasing regularisation. Duality gap: 1.062e+08, tolerance: 3.197e+06\n",
      "  model = cd_fast.enet_coordinate_descent(\n",
      "/Users/ericrodriguez/opt/anaconda3/lib/python3.8/site-packages/sklearn/linear_model/_coordinate_descent.py:647: ConvergenceWarning: Objective did not converge. You might want to increase the number of iterations, check the scale of the features or consider increasing regularisation. Duality gap: 2.411e+07, tolerance: 5.393e+05\n",
      "  model = cd_fast.enet_coordinate_descent(\n",
      "/Users/ericrodriguez/opt/anaconda3/lib/python3.8/site-packages/sklearn/linear_model/_coordinate_descent.py:647: ConvergenceWarning: Objective did not converge. You might want to increase the number of iterations, check the scale of the features or consider increasing regularisation. Duality gap: 1.585e+07, tolerance: 5.194e+05\n",
      "  model = cd_fast.enet_coordinate_descent(\n",
      "/Users/ericrodriguez/opt/anaconda3/lib/python3.8/site-packages/sklearn/linear_model/_coordinate_descent.py:647: ConvergenceWarning: Objective did not converge. You might want to increase the number of iterations, check the scale of the features or consider increasing regularisation. Duality gap: 1.142e+08, tolerance: 3.211e+06\n",
      "  model = cd_fast.enet_coordinate_descent(\n",
      "/Users/ericrodriguez/opt/anaconda3/lib/python3.8/site-packages/sklearn/linear_model/_coordinate_descent.py:647: ConvergenceWarning: Objective did not converge. You might want to increase the number of iterations, check the scale of the features or consider increasing regularisation. Duality gap: 9.379e+07, tolerance: 3.247e+06\n",
      "  model = cd_fast.enet_coordinate_descent(\n",
      "/Users/ericrodriguez/opt/anaconda3/lib/python3.8/site-packages/sklearn/linear_model/_coordinate_descent.py:647: ConvergenceWarning: Objective did not converge. You might want to increase the number of iterations, check the scale of the features or consider increasing regularisation. Duality gap: 1.138e+08, tolerance: 3.230e+06\n",
      "  model = cd_fast.enet_coordinate_descent(\n",
      "/Users/ericrodriguez/opt/anaconda3/lib/python3.8/site-packages/sklearn/linear_model/_coordinate_descent.py:647: ConvergenceWarning: Objective did not converge. You might want to increase the number of iterations, check the scale of the features or consider increasing regularisation. Duality gap: 1.082e+08, tolerance: 3.197e+06\n",
      "  model = cd_fast.enet_coordinate_descent(\n",
      "/Users/ericrodriguez/opt/anaconda3/lib/python3.8/site-packages/sklearn/linear_model/_coordinate_descent.py:647: ConvergenceWarning: Objective did not converge. You might want to increase the number of iterations, check the scale of the features or consider increasing regularisation. Duality gap: 1.142e+08, tolerance: 3.211e+06\n",
      "  model = cd_fast.enet_coordinate_descent(\n",
      "/Users/ericrodriguez/opt/anaconda3/lib/python3.8/site-packages/sklearn/linear_model/_coordinate_descent.py:647: ConvergenceWarning: Objective did not converge. You might want to increase the number of iterations, check the scale of the features or consider increasing regularisation. Duality gap: 9.379e+07, tolerance: 3.247e+06\n",
      "  model = cd_fast.enet_coordinate_descent(\n",
      "/Users/ericrodriguez/opt/anaconda3/lib/python3.8/site-packages/sklearn/linear_model/_coordinate_descent.py:647: ConvergenceWarning: Objective did not converge. You might want to increase the number of iterations, check the scale of the features or consider increasing regularisation. Duality gap: 1.138e+08, tolerance: 3.230e+06\n",
      "  model = cd_fast.enet_coordinate_descent(\n",
      "/Users/ericrodriguez/opt/anaconda3/lib/python3.8/site-packages/sklearn/linear_model/_coordinate_descent.py:647: ConvergenceWarning: Objective did not converge. You might want to increase the number of iterations, check the scale of the features or consider increasing regularisation. Duality gap: 1.095e+08, tolerance: 3.197e+06\n",
      "  model = cd_fast.enet_coordinate_descent(\n",
      "/Users/ericrodriguez/opt/anaconda3/lib/python3.8/site-packages/sklearn/linear_model/_coordinate_descent.py:647: ConvergenceWarning: Objective did not converge. You might want to increase the number of iterations, check the scale of the features or consider increasing regularisation. Duality gap: 1.142e+08, tolerance: 3.211e+06\n",
      "  model = cd_fast.enet_coordinate_descent(\n",
      "/Users/ericrodriguez/opt/anaconda3/lib/python3.8/site-packages/sklearn/linear_model/_coordinate_descent.py:647: ConvergenceWarning: Objective did not converge. You might want to increase the number of iterations, check the scale of the features or consider increasing regularisation. Duality gap: 9.379e+07, tolerance: 3.247e+06\n",
      "  model = cd_fast.enet_coordinate_descent(\n",
      "/Users/ericrodriguez/opt/anaconda3/lib/python3.8/site-packages/sklearn/linear_model/_coordinate_descent.py:647: ConvergenceWarning: Objective did not converge. You might want to increase the number of iterations, check the scale of the features or consider increasing regularisation. Duality gap: 1.138e+08, tolerance: 3.230e+06\n",
      "  model = cd_fast.enet_coordinate_descent(\n",
      "/Users/ericrodriguez/opt/anaconda3/lib/python3.8/site-packages/sklearn/linear_model/_coordinate_descent.py:647: ConvergenceWarning: Objective did not converge. You might want to increase the number of iterations, check the scale of the features or consider increasing regularisation. Duality gap: 1.060e+08, tolerance: 3.197e+06\n",
      "  model = cd_fast.enet_coordinate_descent(\n",
      "/Users/ericrodriguez/opt/anaconda3/lib/python3.8/site-packages/sklearn/linear_model/_coordinate_descent.py:647: ConvergenceWarning: Objective did not converge. You might want to increase the number of iterations, check the scale of the features or consider increasing regularisation. Duality gap: 1.173e+08, tolerance: 3.378e+06\n",
      "  model = cd_fast.enet_coordinate_descent(\n",
      "/Users/ericrodriguez/opt/anaconda3/lib/python3.8/site-packages/sklearn/linear_model/_coordinate_descent.py:647: ConvergenceWarning: Objective did not converge. You might want to increase the number of iterations, check the scale of the features or consider increasing regularisation. Duality gap: 1.105e+08, tolerance: 3.211e+06\n",
      "  model = cd_fast.enet_coordinate_descent(\n",
      "/Users/ericrodriguez/opt/anaconda3/lib/python3.8/site-packages/sklearn/linear_model/_coordinate_descent.py:647: ConvergenceWarning: Objective did not converge. You might want to increase the number of iterations, check the scale of the features or consider increasing regularisation. Duality gap: 9.606e+07, tolerance: 3.247e+06\n",
      "  model = cd_fast.enet_coordinate_descent(\n",
      "/Users/ericrodriguez/opt/anaconda3/lib/python3.8/site-packages/sklearn/linear_model/_coordinate_descent.py:647: ConvergenceWarning: Objective did not converge. You might want to increase the number of iterations, check the scale of the features or consider increasing regularisation. Duality gap: 1.154e+08, tolerance: 3.230e+06\n",
      "  model = cd_fast.enet_coordinate_descent(\n",
      "/Users/ericrodriguez/opt/anaconda3/lib/python3.8/site-packages/sklearn/linear_model/_coordinate_descent.py:647: ConvergenceWarning: Objective did not converge. You might want to increase the number of iterations, check the scale of the features or consider increasing regularisation. Duality gap: 1.233e+08, tolerance: 3.378e+06\n",
      "  model = cd_fast.enet_coordinate_descent(\n",
      "/Users/ericrodriguez/opt/anaconda3/lib/python3.8/site-packages/sklearn/linear_model/_coordinate_descent.py:647: ConvergenceWarning: Objective did not converge. You might want to increase the number of iterations, check the scale of the features or consider increasing regularisation. Duality gap: 1.124e+08, tolerance: 3.211e+06\n",
      "  model = cd_fast.enet_coordinate_descent(\n",
      "/Users/ericrodriguez/opt/anaconda3/lib/python3.8/site-packages/sklearn/linear_model/_coordinate_descent.py:647: ConvergenceWarning: Objective did not converge. You might want to increase the number of iterations, check the scale of the features or consider increasing regularisation. Duality gap: 9.103e+07, tolerance: 3.247e+06\n",
      "  model = cd_fast.enet_coordinate_descent(\n",
      "/Users/ericrodriguez/opt/anaconda3/lib/python3.8/site-packages/sklearn/linear_model/_coordinate_descent.py:647: ConvergenceWarning: Objective did not converge. You might want to increase the number of iterations, check the scale of the features or consider increasing regularisation. Duality gap: 1.118e+08, tolerance: 3.230e+06\n",
      "  model = cd_fast.enet_coordinate_descent(\n",
      "/Users/ericrodriguez/opt/anaconda3/lib/python3.8/site-packages/sklearn/model_selection/_validation.py:680: UserWarning: With alpha=0, this algorithm does not converge well. You are advised to use the LinearRegression estimator\n",
      "  estimator.fit(X_train, y_train, **fit_params)\n",
      "/Users/ericrodriguez/opt/anaconda3/lib/python3.8/site-packages/sklearn/linear_model/_coordinate_descent.py:647: UserWarning: Coordinate descent with no regularization may lead to unexpected results and is discouraged.\n",
      "  model = cd_fast.enet_coordinate_descent(\n",
      "/Users/ericrodriguez/opt/anaconda3/lib/python3.8/site-packages/sklearn/linear_model/_coordinate_descent.py:647: ConvergenceWarning: Objective did not converge. You might want to increase the number of iterations, check the scale of the features or consider increasing regularisation. Duality gap: 2.058e+07, tolerance: 5.186e+05 Linear regression models with null weight for the l1 regularization term are more efficiently fitted using one of the solvers implemented in sklearn.linear_model.Ridge/RidgeCV instead.\n",
      "  model = cd_fast.enet_coordinate_descent(\n",
      "/Users/ericrodriguez/opt/anaconda3/lib/python3.8/site-packages/sklearn/model_selection/_validation.py:680: UserWarning: With alpha=0, this algorithm does not converge well. You are advised to use the LinearRegression estimator\n",
      "  estimator.fit(X_train, y_train, **fit_params)\n",
      "/Users/ericrodriguez/opt/anaconda3/lib/python3.8/site-packages/sklearn/linear_model/_coordinate_descent.py:647: UserWarning: Coordinate descent with no regularization may lead to unexpected results and is discouraged.\n",
      "  model = cd_fast.enet_coordinate_descent(\n",
      "/Users/ericrodriguez/opt/anaconda3/lib/python3.8/site-packages/sklearn/linear_model/_coordinate_descent.py:647: ConvergenceWarning: Objective did not converge. You might want to increase the number of iterations, check the scale of the features or consider increasing regularisation. Duality gap: 2.239e+07, tolerance: 5.327e+05 Linear regression models with null weight for the l1 regularization term are more efficiently fitted using one of the solvers implemented in sklearn.linear_model.Ridge/RidgeCV instead.\n",
      "  model = cd_fast.enet_coordinate_descent(\n",
      "/Users/ericrodriguez/opt/anaconda3/lib/python3.8/site-packages/sklearn/model_selection/_validation.py:680: UserWarning: With alpha=0, this algorithm does not converge well. You are advised to use the LinearRegression estimator\n",
      "  estimator.fit(X_train, y_train, **fit_params)\n",
      "/Users/ericrodriguez/opt/anaconda3/lib/python3.8/site-packages/sklearn/linear_model/_coordinate_descent.py:647: UserWarning: Coordinate descent with no regularization may lead to unexpected results and is discouraged.\n",
      "  model = cd_fast.enet_coordinate_descent(\n",
      "/Users/ericrodriguez/opt/anaconda3/lib/python3.8/site-packages/sklearn/linear_model/_coordinate_descent.py:647: ConvergenceWarning: Objective did not converge. You might want to increase the number of iterations, check the scale of the features or consider increasing regularisation. Duality gap: 2.411e+07, tolerance: 5.393e+05 Linear regression models with null weight for the l1 regularization term are more efficiently fitted using one of the solvers implemented in sklearn.linear_model.Ridge/RidgeCV instead.\n",
      "  model = cd_fast.enet_coordinate_descent(\n",
      "/Users/ericrodriguez/opt/anaconda3/lib/python3.8/site-packages/sklearn/model_selection/_validation.py:680: UserWarning: With alpha=0, this algorithm does not converge well. You are advised to use the LinearRegression estimator\n",
      "  estimator.fit(X_train, y_train, **fit_params)\n",
      "/Users/ericrodriguez/opt/anaconda3/lib/python3.8/site-packages/sklearn/linear_model/_coordinate_descent.py:647: UserWarning: Coordinate descent with no regularization may lead to unexpected results and is discouraged.\n",
      "  model = cd_fast.enet_coordinate_descent(\n",
      "/Users/ericrodriguez/opt/anaconda3/lib/python3.8/site-packages/sklearn/linear_model/_coordinate_descent.py:647: ConvergenceWarning: Objective did not converge. You might want to increase the number of iterations, check the scale of the features or consider increasing regularisation. Duality gap: 1.585e+07, tolerance: 5.194e+05 Linear regression models with null weight for the l1 regularization term are more efficiently fitted using one of the solvers implemented in sklearn.linear_model.Ridge/RidgeCV instead.\n",
      "  model = cd_fast.enet_coordinate_descent(\n",
      "/Users/ericrodriguez/opt/anaconda3/lib/python3.8/site-packages/sklearn/linear_model/_coordinate_descent.py:647: ConvergenceWarning: Objective did not converge. You might want to increase the number of iterations, check the scale of the features or consider increasing regularisation. Duality gap: 1.585e+07, tolerance: 5.194e+05\n",
      "  model = cd_fast.enet_coordinate_descent(\n",
      "/Users/ericrodriguez/opt/anaconda3/lib/python3.8/site-packages/sklearn/linear_model/_coordinate_descent.py:647: ConvergenceWarning: Objective did not converge. You might want to increase the number of iterations, check the scale of the features or consider increasing regularisation. Duality gap: 1.881e+07, tolerance: 5.194e+05\n",
      "  model = cd_fast.enet_coordinate_descent(\n",
      "/Users/ericrodriguez/opt/anaconda3/lib/python3.8/site-packages/sklearn/linear_model/_coordinate_descent.py:647: ConvergenceWarning: Objective did not converge. You might want to increase the number of iterations, check the scale of the features or consider increasing regularisation. Duality gap: 2.509e+07, tolerance: 5.231e+05\n",
      "  model = cd_fast.enet_coordinate_descent(\n",
      "/Users/ericrodriguez/opt/anaconda3/lib/python3.8/site-packages/sklearn/linear_model/_coordinate_descent.py:647: ConvergenceWarning: Objective did not converge. You might want to increase the number of iterations, check the scale of the features or consider increasing regularisation. Duality gap: 1.203e+08, tolerance: 3.378e+06\n",
      "  model = cd_fast.enet_coordinate_descent(\n",
      "/Users/ericrodriguez/opt/anaconda3/lib/python3.8/site-packages/sklearn/linear_model/_coordinate_descent.py:647: ConvergenceWarning: Objective did not converge. You might want to increase the number of iterations, check the scale of the features or consider increasing regularisation. Duality gap: 1.126e+08, tolerance: 3.211e+06\n",
      "  model = cd_fast.enet_coordinate_descent(\n",
      "/Users/ericrodriguez/opt/anaconda3/lib/python3.8/site-packages/sklearn/linear_model/_coordinate_descent.py:647: ConvergenceWarning: Objective did not converge. You might want to increase the number of iterations, check the scale of the features or consider increasing regularisation. Duality gap: 2.258e+07, tolerance: 5.231e+05\n",
      "  model = cd_fast.enet_coordinate_descent(\n",
      "/Users/ericrodriguez/opt/anaconda3/lib/python3.8/site-packages/sklearn/linear_model/_coordinate_descent.py:647: ConvergenceWarning: Objective did not converge. You might want to increase the number of iterations, check the scale of the features or consider increasing regularisation. Duality gap: 2.308e+07, tolerance: 5.186e+05\n",
      "  model = cd_fast.enet_coordinate_descent(\n",
      "/Users/ericrodriguez/opt/anaconda3/lib/python3.8/site-packages/sklearn/linear_model/_coordinate_descent.py:647: ConvergenceWarning: Objective did not converge. You might want to increase the number of iterations, check the scale of the features or consider increasing regularisation. Duality gap: 2.306e+07, tolerance: 5.327e+05\n",
      "  model = cd_fast.enet_coordinate_descent(\n",
      "/Users/ericrodriguez/opt/anaconda3/lib/python3.8/site-packages/sklearn/linear_model/_coordinate_descent.py:647: ConvergenceWarning: Objective did not converge. You might want to increase the number of iterations, check the scale of the features or consider increasing regularisation. Duality gap: 2.708e+07, tolerance: 5.393e+05\n",
      "  model = cd_fast.enet_coordinate_descent(\n",
      "/Users/ericrodriguez/opt/anaconda3/lib/python3.8/site-packages/sklearn/linear_model/_coordinate_descent.py:647: ConvergenceWarning: Objective did not converge. You might want to increase the number of iterations, check the scale of the features or consider increasing regularisation. Duality gap: 2.058e+07, tolerance: 5.186e+05\n",
      "  model = cd_fast.enet_coordinate_descent(\n",
      "/Users/ericrodriguez/opt/anaconda3/lib/python3.8/site-packages/sklearn/linear_model/_coordinate_descent.py:647: ConvergenceWarning: Objective did not converge. You might want to increase the number of iterations, check the scale of the features or consider increasing regularisation. Duality gap: 2.239e+07, tolerance: 5.327e+05\n",
      "  model = cd_fast.enet_coordinate_descent(\n",
      "/Users/ericrodriguez/opt/anaconda3/lib/python3.8/site-packages/sklearn/linear_model/_coordinate_descent.py:647: ConvergenceWarning: Objective did not converge. You might want to increase the number of iterations, check the scale of the features or consider increasing regularisation. Duality gap: 2.411e+07, tolerance: 5.393e+05\n",
      "  model = cd_fast.enet_coordinate_descent(\n",
      "/Users/ericrodriguez/opt/anaconda3/lib/python3.8/site-packages/sklearn/linear_model/_coordinate_descent.py:647: ConvergenceWarning: Objective did not converge. You might want to increase the number of iterations, check the scale of the features or consider increasing regularisation. Duality gap: 1.585e+07, tolerance: 5.194e+05\n",
      "  model = cd_fast.enet_coordinate_descent(\n",
      "/Users/ericrodriguez/opt/anaconda3/lib/python3.8/site-packages/sklearn/linear_model/_coordinate_descent.py:647: ConvergenceWarning: Objective did not converge. You might want to increase the number of iterations, check the scale of the features or consider increasing regularisation. Duality gap: 1.171e+08, tolerance: 3.378e+06\n",
      "  model = cd_fast.enet_coordinate_descent(\n",
      "/Users/ericrodriguez/opt/anaconda3/lib/python3.8/site-packages/sklearn/linear_model/_coordinate_descent.py:647: ConvergenceWarning: Objective did not converge. You might want to increase the number of iterations, check the scale of the features or consider increasing regularisation. Duality gap: 1.104e+08, tolerance: 3.211e+06\n",
      "  model = cd_fast.enet_coordinate_descent(\n",
      "/Users/ericrodriguez/opt/anaconda3/lib/python3.8/site-packages/sklearn/linear_model/_coordinate_descent.py:647: ConvergenceWarning: Objective did not converge. You might want to increase the number of iterations, check the scale of the features or consider increasing regularisation. Duality gap: 9.606e+07, tolerance: 3.247e+06\n",
      "  model = cd_fast.enet_coordinate_descent(\n",
      "/Users/ericrodriguez/opt/anaconda3/lib/python3.8/site-packages/sklearn/linear_model/_coordinate_descent.py:647: ConvergenceWarning: Objective did not converge. You might want to increase the number of iterations, check the scale of the features or consider increasing regularisation. Duality gap: 1.105e+08, tolerance: 3.230e+06\n",
      "  model = cd_fast.enet_coordinate_descent(\n",
      "/Users/ericrodriguez/opt/anaconda3/lib/python3.8/site-packages/sklearn/linear_model/_coordinate_descent.py:647: ConvergenceWarning: Objective did not converge. You might want to increase the number of iterations, check the scale of the features or consider increasing regularisation. Duality gap: 2.058e+07, tolerance: 5.186e+05\n",
      "  model = cd_fast.enet_coordinate_descent(\n",
      "/Users/ericrodriguez/opt/anaconda3/lib/python3.8/site-packages/sklearn/linear_model/_coordinate_descent.py:647: ConvergenceWarning: Objective did not converge. You might want to increase the number of iterations, check the scale of the features or consider increasing regularisation. Duality gap: 2.239e+07, tolerance: 5.327e+05\n",
      "  model = cd_fast.enet_coordinate_descent(\n",
      "/Users/ericrodriguez/opt/anaconda3/lib/python3.8/site-packages/sklearn/linear_model/_coordinate_descent.py:647: ConvergenceWarning: Objective did not converge. You might want to increase the number of iterations, check the scale of the features or consider increasing regularisation. Duality gap: 2.411e+07, tolerance: 5.393e+05\n",
      "  model = cd_fast.enet_coordinate_descent(\n",
      "/Users/ericrodriguez/opt/anaconda3/lib/python3.8/site-packages/sklearn/linear_model/_coordinate_descent.py:647: ConvergenceWarning: Objective did not converge. You might want to increase the number of iterations, check the scale of the features or consider increasing regularisation. Duality gap: 1.585e+07, tolerance: 5.194e+05\n",
      "  model = cd_fast.enet_coordinate_descent(\n",
      "/Users/ericrodriguez/opt/anaconda3/lib/python3.8/site-packages/sklearn/linear_model/_coordinate_descent.py:647: ConvergenceWarning: Objective did not converge. You might want to increase the number of iterations, check the scale of the features or consider increasing regularisation. Duality gap: 1.792e+07, tolerance: 5.194e+05\n",
      "  model = cd_fast.enet_coordinate_descent(\n",
      "/Users/ericrodriguez/opt/anaconda3/lib/python3.8/site-packages/sklearn/linear_model/_coordinate_descent.py:647: ConvergenceWarning: Objective did not converge. You might want to increase the number of iterations, check the scale of the features or consider increasing regularisation. Duality gap: 2.509e+07, tolerance: 5.231e+05\n",
      "  model = cd_fast.enet_coordinate_descent(\n",
      "/Users/ericrodriguez/opt/anaconda3/lib/python3.8/site-packages/sklearn/linear_model/_coordinate_descent.py:647: ConvergenceWarning: Objective did not converge. You might want to increase the number of iterations, check the scale of the features or consider increasing regularisation. Duality gap: 1.104e+08, tolerance: 3.197e+06\n",
      "  model = cd_fast.enet_coordinate_descent(\n",
      "/Users/ericrodriguez/opt/anaconda3/lib/python3.8/site-packages/sklearn/linear_model/_coordinate_descent.py:647: ConvergenceWarning: Objective did not converge. You might want to increase the number of iterations, check the scale of the features or consider increasing regularisation. Duality gap: 1.214e+08, tolerance: 3.378e+06\n",
      "  model = cd_fast.enet_coordinate_descent(\n",
      "/Users/ericrodriguez/opt/anaconda3/lib/python3.8/site-packages/sklearn/linear_model/_coordinate_descent.py:647: ConvergenceWarning: Objective did not converge. You might want to increase the number of iterations, check the scale of the features or consider increasing regularisation. Duality gap: 1.142e+08, tolerance: 3.211e+06\n",
      "  model = cd_fast.enet_coordinate_descent(\n",
      "/Users/ericrodriguez/opt/anaconda3/lib/python3.8/site-packages/sklearn/linear_model/_coordinate_descent.py:647: ConvergenceWarning: Objective did not converge. You might want to increase the number of iterations, check the scale of the features or consider increasing regularisation. Duality gap: 9.379e+07, tolerance: 3.247e+06\n",
      "  model = cd_fast.enet_coordinate_descent(\n",
      "/Users/ericrodriguez/opt/anaconda3/lib/python3.8/site-packages/sklearn/linear_model/_coordinate_descent.py:647: ConvergenceWarning: Objective did not converge. You might want to increase the number of iterations, check the scale of the features or consider increasing regularisation. Duality gap: 1.138e+08, tolerance: 3.230e+06\n",
      "  model = cd_fast.enet_coordinate_descent(\n",
      "/Users/ericrodriguez/opt/anaconda3/lib/python3.8/site-packages/sklearn/linear_model/_coordinate_descent.py:647: ConvergenceWarning: Objective did not converge. You might want to increase the number of iterations, check the scale of the features or consider increasing regularisation. Duality gap: 1.117e+08, tolerance: 3.197e+06\n",
      "  model = cd_fast.enet_coordinate_descent(\n",
      "/Users/ericrodriguez/opt/anaconda3/lib/python3.8/site-packages/sklearn/linear_model/_coordinate_descent.py:647: UserWarning: Coordinate descent with no regularization may lead to unexpected results and is discouraged.\n",
      "  model = cd_fast.enet_coordinate_descent(\n",
      "/Users/ericrodriguez/opt/anaconda3/lib/python3.8/site-packages/sklearn/linear_model/_coordinate_descent.py:647: ConvergenceWarning: Objective did not converge. You might want to increase the number of iterations, check the scale of the features or consider increasing regularisation. Duality gap: 2.258e+07, tolerance: 5.231e+05 Linear regression models with null weight for the l1 regularization term are more efficiently fitted using one of the solvers implemented in sklearn.linear_model.Ridge/RidgeCV instead.\n",
      "  model = cd_fast.enet_coordinate_descent(\n",
      "/Users/ericrodriguez/opt/anaconda3/lib/python3.8/site-packages/sklearn/model_selection/_validation.py:680: UserWarning: With alpha=0, this algorithm does not converge well. You are advised to use the LinearRegression estimator\n",
      "  estimator.fit(X_train, y_train, **fit_params)\n",
      "/Users/ericrodriguez/opt/anaconda3/lib/python3.8/site-packages/sklearn/linear_model/_coordinate_descent.py:647: UserWarning: Coordinate descent with no regularization may lead to unexpected results and is discouraged.\n",
      "  model = cd_fast.enet_coordinate_descent(\n",
      "/Users/ericrodriguez/opt/anaconda3/lib/python3.8/site-packages/sklearn/linear_model/_coordinate_descent.py:647: ConvergenceWarning: Objective did not converge. You might want to increase the number of iterations, check the scale of the features or consider increasing regularisation. Duality gap: 2.316e+07, tolerance: 5.186e+05 Linear regression models with null weight for the l1 regularization term are more efficiently fitted using one of the solvers implemented in sklearn.linear_model.Ridge/RidgeCV instead.\n",
      "  model = cd_fast.enet_coordinate_descent(\n",
      "/Users/ericrodriguez/opt/anaconda3/lib/python3.8/site-packages/sklearn/model_selection/_validation.py:680: UserWarning: With alpha=0, this algorithm does not converge well. You are advised to use the LinearRegression estimator\n",
      "  estimator.fit(X_train, y_train, **fit_params)\n",
      "/Users/ericrodriguez/opt/anaconda3/lib/python3.8/site-packages/sklearn/linear_model/_coordinate_descent.py:647: UserWarning: Coordinate descent with no regularization may lead to unexpected results and is discouraged.\n",
      "  model = cd_fast.enet_coordinate_descent(\n",
      "/Users/ericrodriguez/opt/anaconda3/lib/python3.8/site-packages/sklearn/linear_model/_coordinate_descent.py:647: ConvergenceWarning: Objective did not converge. You might want to increase the number of iterations, check the scale of the features or consider increasing regularisation. Duality gap: 2.446e+07, tolerance: 5.327e+05 Linear regression models with null weight for the l1 regularization term are more efficiently fitted using one of the solvers implemented in sklearn.linear_model.Ridge/RidgeCV instead.\n",
      "  model = cd_fast.enet_coordinate_descent(\n",
      "/Users/ericrodriguez/opt/anaconda3/lib/python3.8/site-packages/sklearn/model_selection/_validation.py:680: UserWarning: With alpha=0, this algorithm does not converge well. You are advised to use the LinearRegression estimator\n",
      "  estimator.fit(X_train, y_train, **fit_params)\n",
      "/Users/ericrodriguez/opt/anaconda3/lib/python3.8/site-packages/sklearn/linear_model/_coordinate_descent.py:647: UserWarning: Coordinate descent with no regularization may lead to unexpected results and is discouraged.\n",
      "  model = cd_fast.enet_coordinate_descent(\n",
      "/Users/ericrodriguez/opt/anaconda3/lib/python3.8/site-packages/sklearn/linear_model/_coordinate_descent.py:647: ConvergenceWarning: Objective did not converge. You might want to increase the number of iterations, check the scale of the features or consider increasing regularisation. Duality gap: 2.618e+07, tolerance: 5.393e+05 Linear regression models with null weight for the l1 regularization term are more efficiently fitted using one of the solvers implemented in sklearn.linear_model.Ridge/RidgeCV instead.\n",
      "  model = cd_fast.enet_coordinate_descent(\n",
      "/Users/ericrodriguez/opt/anaconda3/lib/python3.8/site-packages/sklearn/model_selection/_validation.py:680: UserWarning: With alpha=0, this algorithm does not converge well. You are advised to use the LinearRegression estimator\n",
      "  estimator.fit(X_train, y_train, **fit_params)\n",
      "/Users/ericrodriguez/opt/anaconda3/lib/python3.8/site-packages/sklearn/linear_model/_coordinate_descent.py:647: UserWarning: Coordinate descent with no regularization may lead to unexpected results and is discouraged.\n",
      "  model = cd_fast.enet_coordinate_descent(\n",
      "/Users/ericrodriguez/opt/anaconda3/lib/python3.8/site-packages/sklearn/linear_model/_coordinate_descent.py:647: ConvergenceWarning: Objective did not converge. You might want to increase the number of iterations, check the scale of the features or consider increasing regularisation. Duality gap: 1.659e+07, tolerance: 5.194e+05 Linear regression models with null weight for the l1 regularization term are more efficiently fitted using one of the solvers implemented in sklearn.linear_model.Ridge/RidgeCV instead.\n",
      "  model = cd_fast.enet_coordinate_descent(\n",
      "/Users/ericrodriguez/opt/anaconda3/lib/python3.8/site-packages/sklearn/model_selection/_validation.py:680: UserWarning: With alpha=0, this algorithm does not converge well. You are advised to use the LinearRegression estimator\n",
      "  estimator.fit(X_train, y_train, **fit_params)\n",
      "/Users/ericrodriguez/opt/anaconda3/lib/python3.8/site-packages/sklearn/linear_model/_coordinate_descent.py:647: UserWarning: Coordinate descent with no regularization may lead to unexpected results and is discouraged.\n",
      "  model = cd_fast.enet_coordinate_descent(\n",
      "/Users/ericrodriguez/opt/anaconda3/lib/python3.8/site-packages/sklearn/linear_model/_coordinate_descent.py:647: ConvergenceWarning: Objective did not converge. You might want to increase the number of iterations, check the scale of the features or consider increasing regularisation. Duality gap: 2.522e+07, tolerance: 5.231e+05 Linear regression models with null weight for the l1 regularization term are more efficiently fitted using one of the solvers implemented in sklearn.linear_model.Ridge/RidgeCV instead.\n",
      "  model = cd_fast.enet_coordinate_descent(\n",
      "/Users/ericrodriguez/opt/anaconda3/lib/python3.8/site-packages/sklearn/model_selection/_validation.py:680: UserWarning: With alpha=0, this algorithm does not converge well. You are advised to use the LinearRegression estimator\n",
      "  estimator.fit(X_train, y_train, **fit_params)\n",
      "/Users/ericrodriguez/opt/anaconda3/lib/python3.8/site-packages/sklearn/linear_model/_coordinate_descent.py:647: UserWarning: Coordinate descent with no regularization may lead to unexpected results and is discouraged.\n",
      "  model = cd_fast.enet_coordinate_descent(\n",
      "/Users/ericrodriguez/opt/anaconda3/lib/python3.8/site-packages/sklearn/linear_model/_coordinate_descent.py:647: ConvergenceWarning: Objective did not converge. You might want to increase the number of iterations, check the scale of the features or consider increasing regularisation. Duality gap: 1.104e+08, tolerance: 3.197e+06 Linear regression models with null weight for the l1 regularization term are more efficiently fitted using one of the solvers implemented in sklearn.linear_model.Ridge/RidgeCV instead.\n",
      "  model = cd_fast.enet_coordinate_descent(\n",
      "/Users/ericrodriguez/opt/anaconda3/lib/python3.8/site-packages/sklearn/model_selection/_validation.py:680: UserWarning: With alpha=0, this algorithm does not converge well. You are advised to use the LinearRegression estimator\n",
      "  estimator.fit(X_train, y_train, **fit_params)\n",
      "/Users/ericrodriguez/opt/anaconda3/lib/python3.8/site-packages/sklearn/linear_model/_coordinate_descent.py:647: UserWarning: Coordinate descent with no regularization may lead to unexpected results and is discouraged.\n",
      "  model = cd_fast.enet_coordinate_descent(\n",
      "/Users/ericrodriguez/opt/anaconda3/lib/python3.8/site-packages/sklearn/linear_model/_coordinate_descent.py:647: ConvergenceWarning: Objective did not converge. You might want to increase the number of iterations, check the scale of the features or consider increasing regularisation. Duality gap: 1.214e+08, tolerance: 3.378e+06 Linear regression models with null weight for the l1 regularization term are more efficiently fitted using one of the solvers implemented in sklearn.linear_model.Ridge/RidgeCV instead.\n",
      "  model = cd_fast.enet_coordinate_descent(\n",
      "/Users/ericrodriguez/opt/anaconda3/lib/python3.8/site-packages/sklearn/linear_model/_coordinate_descent.py:647: UserWarning: Coordinate descent with no regularization may lead to unexpected results and is discouraged.\n",
      "  model = cd_fast.enet_coordinate_descent(\n",
      "/Users/ericrodriguez/opt/anaconda3/lib/python3.8/site-packages/sklearn/linear_model/_coordinate_descent.py:647: ConvergenceWarning: Objective did not converge. You might want to increase the number of iterations, check the scale of the features or consider increasing regularisation. Duality gap: 1.142e+08, tolerance: 3.211e+06 Linear regression models with null weight for the l1 regularization term are more efficiently fitted using one of the solvers implemented in sklearn.linear_model.Ridge/RidgeCV instead.\n",
      "  model = cd_fast.enet_coordinate_descent(\n",
      "/Users/ericrodriguez/opt/anaconda3/lib/python3.8/site-packages/sklearn/model_selection/_validation.py:680: UserWarning: With alpha=0, this algorithm does not converge well. You are advised to use the LinearRegression estimator\n",
      "  estimator.fit(X_train, y_train, **fit_params)\n",
      "/Users/ericrodriguez/opt/anaconda3/lib/python3.8/site-packages/sklearn/linear_model/_coordinate_descent.py:647: UserWarning: Coordinate descent with no regularization may lead to unexpected results and is discouraged.\n",
      "  model = cd_fast.enet_coordinate_descent(\n",
      "/Users/ericrodriguez/opt/anaconda3/lib/python3.8/site-packages/sklearn/linear_model/_coordinate_descent.py:647: ConvergenceWarning: Objective did not converge. You might want to increase the number of iterations, check the scale of the features or consider increasing regularisation. Duality gap: 9.379e+07, tolerance: 3.247e+06 Linear regression models with null weight for the l1 regularization term are more efficiently fitted using one of the solvers implemented in sklearn.linear_model.Ridge/RidgeCV instead.\n",
      "  model = cd_fast.enet_coordinate_descent(\n",
      "/Users/ericrodriguez/opt/anaconda3/lib/python3.8/site-packages/sklearn/model_selection/_validation.py:680: UserWarning: With alpha=0, this algorithm does not converge well. You are advised to use the LinearRegression estimator\n",
      "  estimator.fit(X_train, y_train, **fit_params)\n",
      "/Users/ericrodriguez/opt/anaconda3/lib/python3.8/site-packages/sklearn/linear_model/_coordinate_descent.py:647: UserWarning: Coordinate descent with no regularization may lead to unexpected results and is discouraged.\n",
      "  model = cd_fast.enet_coordinate_descent(\n",
      "/Users/ericrodriguez/opt/anaconda3/lib/python3.8/site-packages/sklearn/linear_model/_coordinate_descent.py:647: ConvergenceWarning: Objective did not converge. You might want to increase the number of iterations, check the scale of the features or consider increasing regularisation. Duality gap: 1.138e+08, tolerance: 3.230e+06 Linear regression models with null weight for the l1 regularization term are more efficiently fitted using one of the solvers implemented in sklearn.linear_model.Ridge/RidgeCV instead.\n",
      "  model = cd_fast.enet_coordinate_descent(\n",
      "/Users/ericrodriguez/opt/anaconda3/lib/python3.8/site-packages/sklearn/model_selection/_validation.py:680: UserWarning: With alpha=0, this algorithm does not converge well. You are advised to use the LinearRegression estimator\n",
      "  estimator.fit(X_train, y_train, **fit_params)\n",
      "/Users/ericrodriguez/opt/anaconda3/lib/python3.8/site-packages/sklearn/linear_model/_coordinate_descent.py:647: UserWarning: Coordinate descent with no regularization may lead to unexpected results and is discouraged.\n",
      "  model = cd_fast.enet_coordinate_descent(\n",
      "/Users/ericrodriguez/opt/anaconda3/lib/python3.8/site-packages/sklearn/linear_model/_coordinate_descent.py:647: ConvergenceWarning: Objective did not converge. You might want to increase the number of iterations, check the scale of the features or consider increasing regularisation. Duality gap: 1.083e+08, tolerance: 3.197e+06 Linear regression models with null weight for the l1 regularization term are more efficiently fitted using one of the solvers implemented in sklearn.linear_model.Ridge/RidgeCV instead.\n",
      "  model = cd_fast.enet_coordinate_descent(\n",
      "/Users/ericrodriguez/opt/anaconda3/lib/python3.8/site-packages/sklearn/model_selection/_validation.py:680: UserWarning: With alpha=0, this algorithm does not converge well. You are advised to use the LinearRegression estimator\n",
      "  estimator.fit(X_train, y_train, **fit_params)\n",
      "/Users/ericrodriguez/opt/anaconda3/lib/python3.8/site-packages/sklearn/linear_model/_coordinate_descent.py:647: UserWarning: Coordinate descent with no regularization may lead to unexpected results and is discouraged.\n",
      "  model = cd_fast.enet_coordinate_descent(\n",
      "/Users/ericrodriguez/opt/anaconda3/lib/python3.8/site-packages/sklearn/linear_model/_coordinate_descent.py:647: ConvergenceWarning: Objective did not converge. You might want to increase the number of iterations, check the scale of the features or consider increasing regularisation. Duality gap: 1.173e+08, tolerance: 3.378e+06 Linear regression models with null weight for the l1 regularization term are more efficiently fitted using one of the solvers implemented in sklearn.linear_model.Ridge/RidgeCV instead.\n",
      "  model = cd_fast.enet_coordinate_descent(\n",
      "/Users/ericrodriguez/opt/anaconda3/lib/python3.8/site-packages/sklearn/model_selection/_validation.py:680: UserWarning: With alpha=0, this algorithm does not converge well. You are advised to use the LinearRegression estimator\n",
      "  estimator.fit(X_train, y_train, **fit_params)\n",
      "/Users/ericrodriguez/opt/anaconda3/lib/python3.8/site-packages/sklearn/linear_model/_coordinate_descent.py:647: UserWarning: Coordinate descent with no regularization may lead to unexpected results and is discouraged.\n",
      "  model = cd_fast.enet_coordinate_descent(\n",
      "/Users/ericrodriguez/opt/anaconda3/lib/python3.8/site-packages/sklearn/linear_model/_coordinate_descent.py:647: ConvergenceWarning: Objective did not converge. You might want to increase the number of iterations, check the scale of the features or consider increasing regularisation. Duality gap: 1.126e+08, tolerance: 3.211e+06 Linear regression models with null weight for the l1 regularization term are more efficiently fitted using one of the solvers implemented in sklearn.linear_model.Ridge/RidgeCV instead.\n",
      "  model = cd_fast.enet_coordinate_descent(\n",
      "/Users/ericrodriguez/opt/anaconda3/lib/python3.8/site-packages/sklearn/model_selection/_validation.py:680: UserWarning: With alpha=0, this algorithm does not converge well. You are advised to use the LinearRegression estimator\n",
      "  estimator.fit(X_train, y_train, **fit_params)\n",
      "/Users/ericrodriguez/opt/anaconda3/lib/python3.8/site-packages/sklearn/linear_model/_coordinate_descent.py:647: UserWarning: Coordinate descent with no regularization may lead to unexpected results and is discouraged.\n",
      "  model = cd_fast.enet_coordinate_descent(\n",
      "/Users/ericrodriguez/opt/anaconda3/lib/python3.8/site-packages/sklearn/linear_model/_coordinate_descent.py:647: ConvergenceWarning: Objective did not converge. You might want to increase the number of iterations, check the scale of the features or consider increasing regularisation. Duality gap: 9.218e+07, tolerance: 3.247e+06 Linear regression models with null weight for the l1 regularization term are more efficiently fitted using one of the solvers implemented in sklearn.linear_model.Ridge/RidgeCV instead.\n",
      "  model = cd_fast.enet_coordinate_descent(\n",
      "/Users/ericrodriguez/opt/anaconda3/lib/python3.8/site-packages/sklearn/model_selection/_validation.py:680: UserWarning: With alpha=0, this algorithm does not converge well. You are advised to use the LinearRegression estimator\n",
      "  estimator.fit(X_train, y_train, **fit_params)\n",
      "/Users/ericrodriguez/opt/anaconda3/lib/python3.8/site-packages/sklearn/linear_model/_coordinate_descent.py:647: UserWarning: Coordinate descent with no regularization may lead to unexpected results and is discouraged.\n",
      "  model = cd_fast.enet_coordinate_descent(\n",
      "/Users/ericrodriguez/opt/anaconda3/lib/python3.8/site-packages/sklearn/linear_model/_coordinate_descent.py:647: ConvergenceWarning: Objective did not converge. You might want to increase the number of iterations, check the scale of the features or consider increasing regularisation. Duality gap: 1.120e+08, tolerance: 3.230e+06 Linear regression models with null weight for the l1 regularization term are more efficiently fitted using one of the solvers implemented in sklearn.linear_model.Ridge/RidgeCV instead.\n",
      "  model = cd_fast.enet_coordinate_descent(\n"
     ]
    }
   ],
   "source": [
    "# comparing test values with model predicted values\n",
    "plt.scatter(lasso_reg_preds, y_test)\n",
    "plt.title('Baseline vs Production Model')\n",
    "plt.ylabel('Test Deaths')\n",
    "plt.xlabel('Predicted Deaths')\n",
    "plt.axhline(df_texas['deaths'].mean(), color='orange');"
   ]
  },
  {
   "cell_type": "markdown",
   "id": "cc84c8bb-dafe-4d2b-8b25-272f070f091b",
   "metadata": {},
   "source": [
    "**Interpretation:**\n",
    "Our R-squared on unseen data is 99.5%, and our RMSE on unseen data is 494.51"
   ]
  }
 ],
 "metadata": {
  "kernelspec": {
   "display_name": "Python 3 (ipykernel)",
   "language": "python",
   "name": "python3"
  },
  "language_info": {
   "codemirror_mode": {
    "name": "ipython",
    "version": 3
   },
   "file_extension": ".py",
   "mimetype": "text/x-python",
   "name": "python",
   "nbconvert_exporter": "python",
   "pygments_lexer": "ipython3",
   "version": "3.8.5"
  }
 },
 "nbformat": 4,
 "nbformat_minor": 5
}
