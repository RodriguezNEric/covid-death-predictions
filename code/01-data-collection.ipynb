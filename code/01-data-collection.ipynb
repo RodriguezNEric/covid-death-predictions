{
 "cells": [
  {
   "cell_type": "markdown",
   "metadata": {},
   "source": [
    "# Project 5: Machine Learning Modelling to Predict Deaths Associated with COVID-19"
   ]
  },
  {
   "cell_type": "markdown",
   "metadata": {},
   "source": [
    "## Seung Woo Choi, Eric Rodriguez and Muhammad Tahir; Data Science Immersive @ General Assembly - March 2021"
   ]
  },
  {
   "cell_type": "markdown",
   "metadata": {},
   "source": [
    "### Part 1: Collecting and Combining Data"
   ]
  },
  {
   "cell_type": "code",
   "execution_count": 1,
   "metadata": {},
   "outputs": [],
   "source": [
    "import pandas as pd\n",
    "import numpy as np\n",
    "import seaborn as sns\n",
    "import missingno as msno\n",
    "import matplotlib.pyplot as plt\n",
    "\n",
    "import os\n",
    "import glob\n",
    "\n",
    "%matplotlib inline"
   ]
  },
  {
   "cell_type": "code",
   "execution_count": 2,
   "metadata": {},
   "outputs": [],
   "source": [
    "# # code previously used to combine all CSV files h/t freecodecamp.org\n",
    "# extension = 'csv'\n",
    "# all_filenames = [i for i in glob.glob('*.{}'.format(extension))]\n",
    "# #combine all files in the list\n",
    "# combined_csv = pd.concat([pd.read_csv(f) for f in all_filenames ])\n",
    "# #export to csv\n",
    "# combined_csv.to_csv( \"../data/combined_csv.csv\", index=False, encoding='utf-8-sig')"
   ]
  },
  {
   "cell_type": "code",
   "execution_count": 3,
   "metadata": {},
   "outputs": [],
   "source": [
    "# importing combined CSV with all covid-19 data\n",
    "df_all = pd.read_csv('../data/combined_csv.csv',\n",
    "                 na_values=[''], keep_default_na=False)"
   ]
  },
  {
   "cell_type": "code",
   "execution_count": 4,
   "metadata": {},
   "outputs": [
    {
     "data": {
      "text/plain": [
       "(19564, 20)"
      ]
     },
     "execution_count": 4,
     "metadata": {},
     "output_type": "execute_result"
    }
   ],
   "source": [
    "df_all.shape"
   ]
  },
  {
   "cell_type": "code",
   "execution_count": 5,
   "metadata": {},
   "outputs": [],
   "source": [
    "# creating data frame that contains only texas data\n",
    "df_all_texas = df_all.loc[df_all['Province_State']=='Texas']"
   ]
  },
  {
   "cell_type": "code",
   "execution_count": 6,
   "metadata": {},
   "outputs": [],
   "source": [
    "# creating data frame that contains only texas data in 2020\n",
    "df_all_texas_2020 = df_all_texas[df_all_texas.Last_Update.str.contains(\"2020\")]"
   ]
  },
  {
   "cell_type": "code",
   "execution_count": 7,
   "metadata": {},
   "outputs": [],
   "source": [
    "# creating individual data frames for months july-december in 2020 \n",
    "df1 = df_all_texas_2020[df_all_texas_2020.Last_Update.str.startswith('2020-07')]\n",
    "df2 = df_all_texas_2020[df_all_texas_2020.Last_Update.str.startswith('2020-08')]\n",
    "df3 = df_all_texas_2020[df_all_texas_2020.Last_Update.str.startswith('2020-09')]\n",
    "df4 = df_all_texas_2020[df_all_texas_2020.Last_Update.str.startswith('2020-10')]\n",
    "df5 = df_all_texas_2020[df_all_texas_2020.Last_Update.str.startswith('2020-11')]\n",
    "df6 = df_all_texas_2020[df_all_texas_2020.Last_Update.str.startswith('2020-12')]"
   ]
  },
  {
   "cell_type": "code",
   "execution_count": 8,
   "metadata": {},
   "outputs": [],
   "source": [
    "frames = [df1, df2, df3, df4, df5, df6]"
   ]
  },
  {
   "cell_type": "code",
   "execution_count": 9,
   "metadata": {},
   "outputs": [],
   "source": [
    "# concatenating texas data frames july-december 2020 into one data frame\n",
    "df_texas = pd.concat(frames)"
   ]
  },
  {
   "cell_type": "code",
   "execution_count": 10,
   "metadata": {},
   "outputs": [
    {
     "data": {
      "text/plain": [
       "(184, 20)"
      ]
     },
     "execution_count": 10,
     "metadata": {},
     "output_type": "execute_result"
    }
   ],
   "source": [
    "# shape makes sense, 4months of 31 days + 2months of 30 days = 184\n",
    "df_texas.shape"
   ]
  },
  {
   "cell_type": "code",
   "execution_count": 11,
   "metadata": {},
   "outputs": [],
   "source": [
    "# double checking to make sure the df_texas contains data from july-december\n",
    "# df_texas['Last_Update'].unique()"
   ]
  },
  {
   "cell_type": "code",
   "execution_count": 12,
   "metadata": {},
   "outputs": [],
   "source": [
    "# saving texas dataframe as a csv\n",
    "df_texas.to_csv(\"../data/texas_csv.csv\", index=False, encoding='utf-8-sig')"
   ]
  }
 ],
 "metadata": {
  "kernelspec": {
   "display_name": "Python 3 (ipykernel)",
   "language": "python",
   "name": "python3"
  },
  "language_info": {
   "codemirror_mode": {
    "name": "ipython",
    "version": 3
   },
   "file_extension": ".py",
   "mimetype": "text/x-python",
   "name": "python",
   "nbconvert_exporter": "python",
   "pygments_lexer": "ipython3",
   "version": "3.8.5"
  }
 },
 "nbformat": 4,
 "nbformat_minor": 4
}
