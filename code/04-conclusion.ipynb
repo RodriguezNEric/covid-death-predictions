{
 "cells": [
  {
   "cell_type": "markdown",
   "id": "259d1620-2a73-4665-9da5-0c4031ba0ee9",
   "metadata": {},
   "source": [
    "# Project 5: Machine Learning Modelling to Predict Deaths Associated with COVID-19"
   ]
  },
  {
   "cell_type": "markdown",
   "id": "c1bbcc3f-e603-4ff5-98cb-4e8a3ed7a443",
   "metadata": {},
   "source": [
    "## Summary & Outlook:\n",
    "\n",
    "\n",
    "We found that the COVID-19 data is indeed important to predict a good score. we have build a regression model to predict the number of deaths caused by COVID-19 over a six-month timeframe. We have identified the variables that contribute the most predictive capabilities in determining COVID-19 deaths. We have used R-squared and RMSE to evaluate our production model.\n",
    "\n",
    "<br>\n",
    "**Future Outlook**\n",
    "<br>\n",
    "In order to achieve more reliable data-driven predictions, we will focus on the following in the future: multivariate time series analysis that incorporates the important variables identified in the regression model."
   ]
  },
  {
   "cell_type": "markdown",
   "id": "55a5995a-6801-4397-846d-3932b75ab60c",
   "metadata": {},
   "source": [
    "### Part 4: Future Steps"
   ]
  },
  {
   "cell_type": "code",
   "execution_count": 1,
   "id": "a3153cb1-7e21-40f2-8213-ecf4f7dcdd76",
   "metadata": {},
   "outputs": [],
   "source": [
    "import pandas as pd\n",
    "import numpy as np\n",
    "import seaborn as sns\n",
    "import missingno as msno\n",
    "import matplotlib.pyplot as plt\n",
    "\n",
    "import os\n",
    "import glob\n",
    "\n",
    "from sklearn.linear_model import LinearRegression, Ridge, Lasso\n",
    "from sklearn.model_selection import train_test_split, cross_val_score, GridSearchCV\n",
    "from sklearn.preprocessing import StandardScaler\n",
    "from sklearn.decomposition import PCA\n",
    "from sklearn import metrics\n",
    "\n",
    "%matplotlib inline"
   ]
  },
  {
   "cell_type": "code",
   "execution_count": 2,
   "id": "8cf46266-432c-4e5b-9acc-1fc336c50777",
   "metadata": {},
   "outputs": [],
   "source": [
    "# importing texas covid-19 data into a dataframe\n",
    "df_texas = pd.read_csv('../data/texas_csv.csv',\n",
    "                 na_values=[''], keep_default_na=False)"
   ]
  },
  {
   "cell_type": "code",
   "execution_count": 4,
   "id": "9e04b157-f29a-43cd-b313-3795a024de5c",
   "metadata": {},
   "outputs": [
    {
     "data": {
      "text/html": [
       "<div>\n",
       "<style scoped>\n",
       "    .dataframe tbody tr th:only-of-type {\n",
       "        vertical-align: middle;\n",
       "    }\n",
       "\n",
       "    .dataframe tbody tr th {\n",
       "        vertical-align: top;\n",
       "    }\n",
       "\n",
       "    .dataframe thead th {\n",
       "        text-align: right;\n",
       "    }\n",
       "</style>\n",
       "<table border=\"1\" class=\"dataframe\">\n",
       "  <thead>\n",
       "    <tr style=\"text-align: right;\">\n",
       "      <th></th>\n",
       "      <th>province_state</th>\n",
       "      <th>country_region</th>\n",
       "      <th>last_update</th>\n",
       "      <th>lat</th>\n",
       "      <th>long_</th>\n",
       "      <th>confirmed</th>\n",
       "      <th>deaths</th>\n",
       "      <th>recovered</th>\n",
       "      <th>active</th>\n",
       "      <th>fips</th>\n",
       "      <th>incident_rate</th>\n",
       "      <th>people_tested</th>\n",
       "      <th>people_hospitalized</th>\n",
       "      <th>mortality_rate</th>\n",
       "      <th>uid</th>\n",
       "      <th>iso3</th>\n",
       "      <th>testing_rate</th>\n",
       "      <th>hospitalization_rate</th>\n",
       "      <th>total_test_results</th>\n",
       "      <th>case_fatality_ratio</th>\n",
       "    </tr>\n",
       "  </thead>\n",
       "  <tbody>\n",
       "    <tr>\n",
       "      <th>0</th>\n",
       "      <td>Texas</td>\n",
       "      <td>US</td>\n",
       "      <td>2020-07-06 04:34:10</td>\n",
       "      <td>31.0545</td>\n",
       "      <td>-97.5635</td>\n",
       "      <td>196377</td>\n",
       "      <td>2817</td>\n",
       "      <td>100843.0</td>\n",
       "      <td>91461.0</td>\n",
       "      <td>48.0</td>\n",
       "      <td>672.274797</td>\n",
       "      <td>2133457.0</td>\n",
       "      <td>NaN</td>\n",
       "      <td>1.348162</td>\n",
       "      <td>84000048.0</td>\n",
       "      <td>USA</td>\n",
       "      <td>7357.793336</td>\n",
       "      <td>NaN</td>\n",
       "      <td>NaN</td>\n",
       "      <td>NaN</td>\n",
       "    </tr>\n",
       "    <tr>\n",
       "      <th>1</th>\n",
       "      <td>Texas</td>\n",
       "      <td>US</td>\n",
       "      <td>2020-07-05 04:34:00</td>\n",
       "      <td>31.0545</td>\n",
       "      <td>-97.5635</td>\n",
       "      <td>192796</td>\n",
       "      <td>2784</td>\n",
       "      <td>97430.0</td>\n",
       "      <td>92116.0</td>\n",
       "      <td>48.0</td>\n",
       "      <td>662.690677</td>\n",
       "      <td>2071809.0</td>\n",
       "      <td>NaN</td>\n",
       "      <td>1.356731</td>\n",
       "      <td>84000048.0</td>\n",
       "      <td>USA</td>\n",
       "      <td>7145.183828</td>\n",
       "      <td>NaN</td>\n",
       "      <td>NaN</td>\n",
       "      <td>NaN</td>\n",
       "    </tr>\n",
       "    <tr>\n",
       "      <th>2</th>\n",
       "      <td>Texas</td>\n",
       "      <td>US</td>\n",
       "      <td>2020-07-31 04:35:31</td>\n",
       "      <td>31.0545</td>\n",
       "      <td>-97.5635</td>\n",
       "      <td>429579</td>\n",
       "      <td>6839</td>\n",
       "      <td>260542.0</td>\n",
       "      <td>161245.0</td>\n",
       "      <td>48.0</td>\n",
       "      <td>1476.861489</td>\n",
       "      <td>3609474.0</td>\n",
       "      <td>NaN</td>\n",
       "      <td>1.504335</td>\n",
       "      <td>84000048.0</td>\n",
       "      <td>USA</td>\n",
       "      <td>12448.230147</td>\n",
       "      <td>NaN</td>\n",
       "      <td>NaN</td>\n",
       "      <td>NaN</td>\n",
       "    </tr>\n",
       "    <tr>\n",
       "      <th>3</th>\n",
       "      <td>Texas</td>\n",
       "      <td>US</td>\n",
       "      <td>2020-07-13 04:43:16</td>\n",
       "      <td>31.0545</td>\n",
       "      <td>-97.5635</td>\n",
       "      <td>263551</td>\n",
       "      <td>3432</td>\n",
       "      <td>132638.0</td>\n",
       "      <td>126908.0</td>\n",
       "      <td>48.0</td>\n",
       "      <td>906.204574</td>\n",
       "      <td>2492754.0</td>\n",
       "      <td>NaN</td>\n",
       "      <td>1.223921</td>\n",
       "      <td>84000048.0</td>\n",
       "      <td>USA</td>\n",
       "      <td>8596.924508</td>\n",
       "      <td>NaN</td>\n",
       "      <td>NaN</td>\n",
       "      <td>NaN</td>\n",
       "    </tr>\n",
       "    <tr>\n",
       "      <th>4</th>\n",
       "      <td>Texas</td>\n",
       "      <td>US</td>\n",
       "      <td>2020-07-14 04:34:58</td>\n",
       "      <td>31.0545</td>\n",
       "      <td>-97.5635</td>\n",
       "      <td>270707</td>\n",
       "      <td>3505</td>\n",
       "      <td>136419.0</td>\n",
       "      <td>130083.0</td>\n",
       "      <td>48.0</td>\n",
       "      <td>930.401115</td>\n",
       "      <td>2540125.0</td>\n",
       "      <td>NaN</td>\n",
       "      <td>1.214332</td>\n",
       "      <td>84000048.0</td>\n",
       "      <td>USA</td>\n",
       "      <td>8760.295988</td>\n",
       "      <td>NaN</td>\n",
       "      <td>NaN</td>\n",
       "      <td>NaN</td>\n",
       "    </tr>\n",
       "  </tbody>\n",
       "</table>\n",
       "</div>"
      ],
      "text/plain": [
       "  province_state country_region          last_update      lat    long_  \\\n",
       "0          Texas             US  2020-07-06 04:34:10  31.0545 -97.5635   \n",
       "1          Texas             US  2020-07-05 04:34:00  31.0545 -97.5635   \n",
       "2          Texas             US  2020-07-31 04:35:31  31.0545 -97.5635   \n",
       "3          Texas             US  2020-07-13 04:43:16  31.0545 -97.5635   \n",
       "4          Texas             US  2020-07-14 04:34:58  31.0545 -97.5635   \n",
       "\n",
       "   confirmed  deaths  recovered    active  fips  incident_rate  people_tested  \\\n",
       "0     196377    2817   100843.0   91461.0  48.0     672.274797      2133457.0   \n",
       "1     192796    2784    97430.0   92116.0  48.0     662.690677      2071809.0   \n",
       "2     429579    6839   260542.0  161245.0  48.0    1476.861489      3609474.0   \n",
       "3     263551    3432   132638.0  126908.0  48.0     906.204574      2492754.0   \n",
       "4     270707    3505   136419.0  130083.0  48.0     930.401115      2540125.0   \n",
       "\n",
       "   people_hospitalized  mortality_rate         uid iso3  testing_rate  \\\n",
       "0                  NaN        1.348162  84000048.0  USA   7357.793336   \n",
       "1                  NaN        1.356731  84000048.0  USA   7145.183828   \n",
       "2                  NaN        1.504335  84000048.0  USA  12448.230147   \n",
       "3                  NaN        1.223921  84000048.0  USA   8596.924508   \n",
       "4                  NaN        1.214332  84000048.0  USA   8760.295988   \n",
       "\n",
       "   hospitalization_rate  total_test_results  case_fatality_ratio  \n",
       "0                   NaN                 NaN                  NaN  \n",
       "1                   NaN                 NaN                  NaN  \n",
       "2                   NaN                 NaN                  NaN  \n",
       "3                   NaN                 NaN                  NaN  \n",
       "4                   NaN                 NaN                  NaN  "
      ]
     },
     "execution_count": 4,
     "metadata": {},
     "output_type": "execute_result"
    }
   ],
   "source": [
    "# convert columns to lowercase\n",
    "df_texas.columns = [column.lower() for column in df_texas.columns]\n",
    "\n",
    "# show dataframe\n",
    "df_texas.head()"
   ]
  },
  {
   "cell_type": "code",
   "execution_count": 5,
   "id": "298b4ff3-01eb-49e9-b40a-691c7fdb874f",
   "metadata": {},
   "outputs": [],
   "source": [
    "# changing date to datetime\n",
    "df_texas['date'] = pd.to_datetime(df_texas['last_update'])"
   ]
  },
  {
   "cell_type": "code",
   "execution_count": 6,
   "id": "dabd0b18-8f88-458a-ad64-993ad94e2a57",
   "metadata": {},
   "outputs": [],
   "source": [
    "# setting the date as the ind\n",
    "df_texas.set_index('date', inplace=True)\n",
    "df_texas.sort_index(inplace=True)"
   ]
  },
  {
   "cell_type": "code",
   "execution_count": 7,
   "id": "acc7a0ad-d649-498d-8dac-27df70cb092e",
   "metadata": {},
   "outputs": [
    {
     "data": {
      "image/png": "[encoded data removed]",
      "text/plain": [
       "<Figure size 864x576 with 1 Axes>"
      ]
     },
     "metadata": {
      "needs_background": "light"
     },
     "output_type": "display_data"
    }
   ],
   "source": [
    "# plotting deaths and deaths with a rolling mean of 10\n",
    "plt.figure(figsize=(12,8))\n",
    "plt.plot(df_texas['deaths'], label = 'COVID-19 Deaths in Texas')\n",
    "plt.plot(df_texas['deaths'].rolling(10).mean(), label = 'COVID-19 Deaths with a 10-day rolling average')\n",
    "plt.legend()\n",
    "plt.ylabel('Deaths')\n",
    "plt.xlabel('Month')\n",
    "plt.title('Deaths at a 10-day Moving Average');"
   ]
  },
  {
   "cell_type": "markdown",
   "id": "56a5a146-2f7a-43ed-b038-192f5176136b",
   "metadata": {},
   "source": [
    "Here we have visualized deaths, as well as deaths with a rolling mean of 10 days.\n",
    "The rolling mean helps us visualize deaths without the deaths being as susceptible to spikes in the data or lags in data reporting.\n",
    "Visualizing death as a function of time is the first step in time series modeling. From here, we want to try out several different time series forecasting techniques, but time did not permit us to do this."
   ]
  }
 ],
 "metadata": {
  "kernelspec": {
   "display_name": "Python 3 (ipykernel)",
   "language": "python",
   "name": "python3"
  },
  "language_info": {
   "codemirror_mode": {
    "name": "ipython",
    "version": 3
   },
   "file_extension": ".py",
   "mimetype": "text/x-python",
   "name": "python",
   "nbconvert_exporter": "python",
   "pygments_lexer": "ipython3",
   "version": "3.8.5"
  }
 },
 "nbformat": 4,
 "nbformat_minor": 5
}
